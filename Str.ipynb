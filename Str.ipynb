{
 "cells": [
  {
   "cell_type": "code",
   "execution_count": 2,
   "id": "be1cb050",
   "metadata": {},
   "outputs": [],
   "source": [
    "import pandas as pd\n",
    "import numpy as np"
   ]
  },
  {
   "cell_type": "code",
   "execution_count": 5,
   "id": "d773eceb",
   "metadata": {},
   "outputs": [
    {
     "data": {
      "text/plain": [
       "'EDFG'"
      ]
     },
     "execution_count": 5,
     "metadata": {},
     "output_type": "execute_result"
    }
   ],
   "source": [
    "var = 'edfg'\n",
    "str.upper(var) # Python内置str模块"
   ]
  },
  {
   "cell_type": "code",
   "execution_count": 7,
   "id": "620f1c6a",
   "metadata": {
    "scrolled": false
   },
   "outputs": [
    {
     "data": {
      "text/plain": [
       "0      ABCD\n",
       "1    EFGHIJ\n",
       "2        JK\n",
       "dtype: object"
      ]
     },
     "execution_count": 7,
     "metadata": {},
     "output_type": "execute_result"
    }
   ],
   "source": [
    "s=pd.Series(['abcd','efghij','jk'])\n",
    "s.str.upper()"
   ]
  },
  {
   "cell_type": "code",
   "execution_count": 8,
   "id": "482e9f75",
   "metadata": {},
   "outputs": [
    {
     "data": {
      "text/plain": [
       "0    a\n",
       "1    e\n",
       "2    j\n",
       "dtype: object"
      ]
     },
     "execution_count": 8,
     "metadata": {},
     "output_type": "execute_result"
    }
   ],
   "source": [
    "s.str[0]"
   ]
  },
  {
   "cell_type": "code",
   "execution_count": 6,
   "id": "0a8df603",
   "metadata": {},
   "outputs": [
    {
     "data": {
      "text/plain": [
       "0     db\n",
       "1    jhf\n",
       "2      k\n",
       "dtype: object"
      ]
     },
     "execution_count": 6,
     "metadata": {},
     "output_type": "execute_result"
    }
   ],
   "source": [
    "s.str[-1: 0: -2]\n",
    "#切片操作不包括右边的值"
   ]
  },
  {
   "cell_type": "code",
   "execution_count": 7,
   "id": "43a8eee9",
   "metadata": {},
   "outputs": [
    {
     "data": {
      "text/plain": [
       "0    temp_1\n",
       "1         b\n",
       "2       NaN\n",
       "3         y\n",
       "dtype: object"
      ]
     },
     "execution_count": 7,
     "metadata": {},
     "output_type": "execute_result"
    }
   ],
   "source": [
    "s = pd.Series([{1: 'temp_1', 2: 'temp_2'}, ['a', 'b'], 0.5, 'my_string'])\n",
    "s.str[1]"
   ]
  },
  {
   "cell_type": "code",
   "execution_count": 12,
   "id": "dc68b318",
   "metadata": {},
   "outputs": [
    {
     "data": {
      "text/plain": [
       "0    1\n",
       "1    '\n",
       "2    .\n",
       "3    y\n",
       "dtype: string"
      ]
     },
     "execution_count": 12,
     "metadata": {},
     "output_type": "execute_result"
    }
   ],
   "source": [
    "s.astype('string').str[1]"
   ]
  },
  {
   "cell_type": "markdown",
   "id": "a4b1f93e",
   "metadata": {},
   "source": [
    "## 一般字符的匹配"
   ]
  },
  {
   "cell_type": "code",
   "execution_count": 14,
   "id": "9fb066f6",
   "metadata": {},
   "outputs": [
    {
     "data": {
      "text/plain": [
       "['Apple', 'Apple']"
      ]
     },
     "execution_count": 14,
     "metadata": {},
     "output_type": "execute_result"
    }
   ],
   "source": [
    "import re\n",
    "re.findall('Apple','Apple,Apples,This is an apple')\n"
   ]
  },
  {
   "cell_type": "code",
   "execution_count": 16,
   "id": "25d9cef0",
   "metadata": {},
   "outputs": [
    {
     "data": {
      "text/plain": [
       "['a', 'b', 'c', 'd', 'e']"
      ]
     },
     "execution_count": 16,
     "metadata": {},
     "output_type": "execute_result"
    }
   ],
   "source": [
    "re.findall('.','abcde')"
   ]
  },
  {
   "cell_type": "code",
   "execution_count": 19,
   "id": "beab9c83",
   "metadata": {},
   "outputs": [
    {
     "data": {
      "text/plain": [
       "['a', 'b', 'd']"
      ]
     },
     "execution_count": 19,
     "metadata": {},
     "output_type": "execute_result"
    }
   ],
   "source": [
    "re.findall('[abd]','abcde')"
   ]
  },
  {
   "cell_type": "code",
   "execution_count": 20,
   "id": "50b30234",
   "metadata": {},
   "outputs": [
    {
     "data": {
      "text/plain": [
       "['b', 'c', 'd', 'e']"
      ]
     },
     "execution_count": 20,
     "metadata": {},
     "output_type": "execute_result"
    }
   ],
   "source": [
    "re.findall('[^a]','abcde')"
   ]
  },
  {
   "cell_type": "code",
   "execution_count": 22,
   "id": "d9d2255d",
   "metadata": {},
   "outputs": [
    {
     "data": {
      "text/plain": [
       "['aa', 'ee', 'aa']"
      ]
     },
     "execution_count": 22,
     "metadata": {},
     "output_type": "execute_result"
    }
   ],
   "source": [
    "re.findall('[ae]{2}','aabbccddeeaa')"
   ]
  },
  {
   "cell_type": "code",
   "execution_count": 25,
   "id": "772b657c",
   "metadata": {},
   "outputs": [
    {
     "data": {
      "text/plain": [
       "['ccc']"
      ]
     },
     "execution_count": 25,
     "metadata": {},
     "output_type": "execute_result"
    }
   ],
   "source": [
    "re.findall('aaa|ccc','aabbcccddeeaa')"
   ]
  },
  {
   "cell_type": "code",
   "execution_count": null,
   "id": "a85b9877",
   "metadata": {},
   "outputs": [],
   "source": []
  },
  {
   "cell_type": "code",
   "execution_count": null,
   "id": "92359785",
   "metadata": {},
   "outputs": [],
   "source": []
  },
  {
   "cell_type": "code",
   "execution_count": null,
   "id": "826768b4",
   "metadata": {},
   "outputs": [],
   "source": []
  },
  {
   "cell_type": "code",
   "execution_count": 27,
   "id": "aefc66a9",
   "metadata": {},
   "outputs": [
    {
     "data": {
      "text/plain": [
       "0    [上海, 黄浦, 方浜中, 249 号]\n",
       "1       [上海, 宝山, 密山, 5 号]\n",
       "dtype: object"
      ]
     },
     "execution_count": 27,
     "metadata": {},
     "output_type": "execute_result"
    }
   ],
   "source": [
    "#拆分(其中第一个参数为正则表达式,可选参数包括从左到右的最大拆分次数n,是否展开为多个列expand)\n",
    "s = pd.Series(['上海市黄浦区方浜中路249 号',\n",
    "               '上海市宝山区密山路5 号'])\n",
    "s.str.split('[市区路]')"
   ]
  },
  {
   "cell_type": "code",
   "execution_count": 30,
   "id": "d4a8281e",
   "metadata": {},
   "outputs": [
    {
     "data": {
      "text/plain": [
       "0    [上海, 黄浦, 方浜中路249 号]\n",
       "1       [上海, 宝山, 密山路5 号]\n",
       "dtype: object"
      ]
     },
     "execution_count": 30,
     "metadata": {},
     "output_type": "execute_result"
    }
   ],
   "source": [
    "s.str.split('[市区路]',n=2)"
   ]
  },
  {
   "cell_type": "code",
   "execution_count": 29,
   "id": "9e2a6cba",
   "metadata": {},
   "outputs": [
    {
     "data": {
      "text/html": [
       "<div>\n",
       "<style scoped>\n",
       "    .dataframe tbody tr th:only-of-type {\n",
       "        vertical-align: middle;\n",
       "    }\n",
       "\n",
       "    .dataframe tbody tr th {\n",
       "        vertical-align: top;\n",
       "    }\n",
       "\n",
       "    .dataframe thead th {\n",
       "        text-align: right;\n",
       "    }\n",
       "</style>\n",
       "<table border=\"1\" class=\"dataframe\">\n",
       "  <thead>\n",
       "    <tr style=\"text-align: right;\">\n",
       "      <th></th>\n",
       "      <th>0</th>\n",
       "      <th>1</th>\n",
       "      <th>2</th>\n",
       "      <th>3</th>\n",
       "    </tr>\n",
       "  </thead>\n",
       "  <tbody>\n",
       "    <tr>\n",
       "      <th>0</th>\n",
       "      <td>上海</td>\n",
       "      <td>黄浦</td>\n",
       "      <td>方浜中</td>\n",
       "      <td>249 号</td>\n",
       "    </tr>\n",
       "    <tr>\n",
       "      <th>1</th>\n",
       "      <td>上海</td>\n",
       "      <td>宝山</td>\n",
       "      <td>密山</td>\n",
       "      <td>5 号</td>\n",
       "    </tr>\n",
       "  </tbody>\n",
       "</table>\n",
       "</div>"
      ],
      "text/plain": [
       "    0   1    2      3\n",
       "0  上海  黄浦  方浜中  249 号\n",
       "1  上海  宝山   密山    5 号"
      ]
     },
     "execution_count": 29,
     "metadata": {},
     "output_type": "execute_result"
    }
   ],
   "source": [
    "s.str.split('[市区路]',n=3,expand=True)"
   ]
  },
  {
   "cell_type": "markdown",
   "id": "76c3e63c",
   "metadata": {},
   "source": [
    "关于合并一共有两个函数，分别是str.join 和str.cat 。str.join 表示用某个连接符把Series 中的字符串列表\n",
    "连接起来，如果列表中出现了字符串元素则返回缺失值："
   ]
  },
  {
   "cell_type": "code",
   "execution_count": 33,
   "id": "b28a9ae8",
   "metadata": {},
   "outputs": [
    {
     "data": {
      "text/plain": [
       "0        a-b\n",
       "1        NaN\n",
       "2        NaN\n",
       "3    Ap-p-le\n",
       "dtype: object"
      ]
     },
     "execution_count": 33,
     "metadata": {},
     "output_type": "execute_result"
    }
   ],
   "source": [
    "#合并\n",
    "s = pd.Series([['a','b'],[1,'c'],[['a','b'],'c'],['Ap','p','le']])\n",
    "s.str.join('-')"
   ]
  },
  {
   "cell_type": "markdown",
   "id": "ebb09070",
   "metadata": {},
   "source": [
    "str.cat用于连接两个序列"
   ]
  },
  {
   "cell_type": "code",
   "execution_count": 35,
   "id": "cdbcb8d9",
   "metadata": {},
   "outputs": [
    {
     "data": {
      "text/plain": [
       "0    A-dog\n",
       "1    B-cat\n",
       "dtype: object"
      ]
     },
     "execution_count": 35,
     "metadata": {},
     "output_type": "execute_result"
    }
   ],
   "source": [
    "s1 = pd.Series(['A','B'])\n",
    "s2 = pd.Series(['dog','cat'])\n",
    "s1.str.cat(s2,sep='-')"
   ]
  },
  {
   "cell_type": "code",
   "execution_count": 36,
   "id": "000aabc7",
   "metadata": {},
   "outputs": [
    {
     "data": {
      "text/plain": [
       "1    dog\n",
       "2    cat\n",
       "dtype: object"
      ]
     },
     "execution_count": 36,
     "metadata": {},
     "output_type": "execute_result"
    }
   ],
   "source": [
    "s2.index=[1,2]\n",
    "s2"
   ]
  },
  {
   "cell_type": "code",
   "execution_count": 38,
   "id": "0e127de7",
   "metadata": {},
   "outputs": [
    {
     "data": {
      "text/plain": [
       "0      A-?\n",
       "1    B-dog\n",
       "2    ?-cat\n",
       "dtype: object"
      ]
     },
     "execution_count": 38,
     "metadata": {},
     "output_type": "execute_result"
    }
   ],
   "source": [
    "s1.str.cat(s2, sep='-', na_rep='?', join='outer')"
   ]
  },
  {
   "cell_type": "code",
   "execution_count": 34,
   "id": "60c4c79b",
   "metadata": {},
   "outputs": [
    {
     "data": {
      "text/plain": [
       "['a?', 'a*']"
      ]
     },
     "execution_count": 34,
     "metadata": {},
     "output_type": "execute_result"
    }
   ],
   "source": [
    "import re\n",
    "re.findall('a\\?|a\\*', 'aa?a*a')\n",
    "#a\\?表示匹配单个字符 a 后跟一个 ? 符号。? 匹配前面的字符零次或一次。,\n",
    "#a\\*表示匹配单个字符 a 后跟一个 * 符号。* 匹配前面的字符零次或多次。"
   ]
  },
  {
   "cell_type": "code",
   "execution_count": 41,
   "id": "03b04aba",
   "metadata": {},
   "outputs": [
    {
     "data": {
      "text/plain": [
       "0     True\n",
       "1     True\n",
       "2    False\n",
       "dtype: bool"
      ]
     },
     "execution_count": 41,
     "metadata": {},
     "output_type": "execute_result"
    }
   ],
   "source": [
    "#匹配\n",
    "s = pd.Series(['my cat', 'he is fat', 'railway station'])\n",
    "\n",
    "s.str.contains('\\s\\wat')\n",
    "\n",
    "#匹配所有字母、数字、下划线: [a-zA-Z0-9_]\\W\n",
    "#匹配空格符: [\\t\\n\\f\\r\\p{Z}]"
   ]
  },
  {
   "cell_type": "code",
   "execution_count": 42,
   "id": "d3ab470c",
   "metadata": {},
   "outputs": [
    {
     "data": {
      "text/plain": [
       "0     True\n",
       "1    False\n",
       "2    False\n",
       "dtype: bool"
      ]
     },
     "execution_count": 42,
     "metadata": {},
     "output_type": "execute_result"
    }
   ],
   "source": [
    "s.str.startswith('my')"
   ]
  },
  {
   "cell_type": "code",
   "execution_count": 44,
   "id": "bf8ea521",
   "metadata": {},
   "outputs": [
    {
     "data": {
      "text/plain": [
       "0     True\n",
       "1     True\n",
       "2    False\n",
       "dtype: bool"
      ]
     },
     "execution_count": 44,
     "metadata": {},
     "output_type": "execute_result"
    }
   ],
   "source": [
    "s.str.endswith('t')"
   ]
  },
  {
   "cell_type": "code",
   "execution_count": null,
   "id": "5a63142b",
   "metadata": {},
   "outputs": [],
   "source": [
    "#替换\n",
    "#str.replace 和replace 并不是一个函数，在使用字符串替换时应当使用前者。"
   ]
  },
  {
   "cell_type": "code",
   "execution_count": 53,
   "id": "2c154b60",
   "metadata": {},
   "outputs": [
    {
     "data": {
      "text/plain": [
       "0    a_and_b\n",
       "1      c_and\n",
       "dtype: object"
      ]
     },
     "execution_count": 53,
     "metadata": {},
     "output_type": "execute_result"
    }
   ],
   "source": [
    "#s=pd.Series(['a_1_b','C_?'])\n",
    "s = pd.Series(['a_1_b','c_?'])\n",
    "# s.str.replace('a_1_b', 'a_new_b')\n",
    "s.str.replace('\\d|\\?','and',regex = True)\n",
    "#\\d 匹配数字: [0-9]，\\s 匹配空格符"
   ]
  },
  {
   "cell_type": "code",
   "execution_count": 82,
   "id": "2a4e1cbc",
   "metadata": {},
   "outputs": [
    {
     "data": {
      "text/plain": [
       "7    8\n",
       "8    9\n",
       "dtype: int64"
      ]
     },
     "execution_count": 82,
     "metadata": {},
     "output_type": "execute_result"
    }
   ],
   "source": [
    "s = pd.Series([1,2,3,4,5,6,7,8,9])\n",
    "s[-2:]"
   ]
  },
  {
   "cell_type": "code",
   "execution_count": 83,
   "id": "ada5601c",
   "metadata": {},
   "outputs": [
    {
     "data": {
      "text/plain": [
       "0    Shanghai HP District Mid Fangbin Road No. 249\n",
       "1           Shanghai BS District Mishan Road No. 5\n",
       "2           Beijing CP District Beinong Road No. 2\n",
       "dtype: object"
      ]
     },
     "execution_count": 83,
     "metadata": {},
     "output_type": "execute_result"
    }
   ],
   "source": [
    "s = pd.Series(['上海市黄浦区方浜中路249号',\n",
    "                '上海市宝山区密山路5号',\n",
    "                '北京市昌平区北农路2号'])\n",
    "pat = '(\\w+市)(\\w+区)(\\w+路)(\\d+号)'\n",
    "city = {'上海市': 'Shanghai', '北京市': 'Beijing'}\n",
    "\n",
    "district = {'昌平区': 'CP District',\n",
    "            '黄浦区': 'HP District',\n",
    "            '宝山区': 'BS District'}\n",
    "\n",
    "road = {'方浜中路': 'Mid Fangbin Road',\n",
    "        '密山路': 'Mishan Road',\n",
    "        '北农路': 'Beinong Road'}\n",
    "\n",
    "def my_func(m):\n",
    "    str_city = city[m.group(1)]\n",
    "    str_district = district[m.group(2)]\n",
    "    str_road = road[m.group(3)]\n",
    "    str_no = 'No. ' + m.group(4)[:-1]\n",
    "    return ' '.join([str_city,\n",
    "                     str_district,\n",
    "                     str_road,\n",
    "                     str_no])\n",
    "s.str.replace(pat,my_func,regex=True)"
   ]
  },
  {
   "cell_type": "code",
   "execution_count": 72,
   "id": "e0ad85a8",
   "metadata": {},
   "outputs": [
    {
     "data": {
      "text/plain": [
       "0    Shanghai HP District Mid Fangbin Road 249号\n",
       "1           Shanghai BS District Mishan Road 5号\n",
       "2           Beijing CP District Beinong Road 2号\n",
       "dtype: object"
      ]
     },
     "execution_count": 72,
     "metadata": {},
     "output_type": "execute_result"
    }
   ],
   "source": [
    "s = pd.Series(['上海市黄浦区方浜中路249号',\n",
    "               '上海市宝山区密山路5号',\n",
    "               '北京市昌平区北农路2号'])\n",
    "\n",
    "pat = '(\\w+市)(\\w+区)(\\w+路)(\\d+号)'\n",
    "\n",
    "city = {'上海市': 'Shanghai', '北京市': 'Beijing'}\n",
    "district = {'昌平区': 'CP District', '黄浦区': 'HP District', '宝山区': 'BS District'}\n",
    "road = {'方浜中路': 'Mid Fangbin Road', '密山路': 'Mishan Road', '北农路': 'Beinong Road'}\n",
    "\n",
    "# 将中文字符逐个替换成字典中的相应内容\n",
    "s=s.str.replace(pat, lambda x: city[x.group(1)]+' '+district[x.group(2)]+' '+road[x.group(3)]+' '+x.group(4),regex=True)\n",
    "s"
   ]
  },
  {
   "cell_type": "code",
   "execution_count": 81,
   "id": "198d1d88",
   "metadata": {},
   "outputs": [
    {
     "data": {
      "text/plain": [
       "0    上海市黄浦区方浜中路249号\n",
       "1       上海市宝山区密山路5号\n",
       "2       北京市昌平区北农路2号\n",
       "dtype: object"
      ]
     },
     "execution_count": 81,
     "metadata": {},
     "output_type": "execute_result"
    }
   ],
   "source": [
    "s = pd.Series(['上海市黄浦区方浜中路249号','上海市宝山区密山路5号','北京市昌平区北农路2号'])\n",
    "pat = '(\\w+ 市)(\\w+ 区)(\\w+ 路)(\\d+ 号)'\n",
    "city = {'上海市': 'Shanghai', '北京市': 'Beijing'}\n",
    "district = {'昌平区': 'CP District',\n",
    "'黄浦区': 'HP District',\n",
    "'宝山区': 'BS District'}\n",
    "road = {'方浜中路': 'Mid Fangbin Road',\n",
    "        '密山路': 'Mishan Road',\n",
    "        '北农路': 'Beinong Road'}\n",
    "def my_func(m):\n",
    "    str_city = city[m.group(1)]\n",
    "    str_district = district[m.group(2)]\n",
    "    str_road = road[m.group(3)]\n",
    "    str_no = 'No. ' + m.group(4)[:-1]\n",
    "    return ' '.join([str_city,\n",
    "                str_district,\n",
    "                str_road,\n",
    "                str_no])\n",
    "\n",
    "s.str.replace(pat, my_func,regex=True)"
   ]
  },
  {
   "cell_type": "code",
   "execution_count": 90,
   "id": "7c170b3b",
   "metadata": {},
   "outputs": [
    {
     "data": {
      "text/html": [
       "<div>\n",
       "<style scoped>\n",
       "    .dataframe tbody tr th:only-of-type {\n",
       "        vertical-align: middle;\n",
       "    }\n",
       "\n",
       "    .dataframe tbody tr th {\n",
       "        vertical-align: top;\n",
       "    }\n",
       "\n",
       "    .dataframe thead th {\n",
       "        text-align: right;\n",
       "    }\n",
       "</style>\n",
       "<table border=\"1\" class=\"dataframe\">\n",
       "  <thead>\n",
       "    <tr style=\"text-align: right;\">\n",
       "      <th></th>\n",
       "      <th>市名</th>\n",
       "      <th>区名</th>\n",
       "      <th>路名</th>\n",
       "      <th>编号</th>\n",
       "    </tr>\n",
       "  </thead>\n",
       "  <tbody>\n",
       "    <tr>\n",
       "      <th>0</th>\n",
       "      <td>上海市</td>\n",
       "      <td>黄浦区</td>\n",
       "      <td>方浜中路</td>\n",
       "      <td>249号</td>\n",
       "    </tr>\n",
       "    <tr>\n",
       "      <th>1</th>\n",
       "      <td>上海市</td>\n",
       "      <td>宝山区</td>\n",
       "      <td>密山路</td>\n",
       "      <td>5号</td>\n",
       "    </tr>\n",
       "    <tr>\n",
       "      <th>2</th>\n",
       "      <td>北京市</td>\n",
       "      <td>昌平区</td>\n",
       "      <td>北农路</td>\n",
       "      <td>2号</td>\n",
       "    </tr>\n",
       "  </tbody>\n",
       "</table>\n",
       "</div>"
      ],
      "text/plain": [
       "    市名   区名    路名    编号\n",
       "0  上海市  黄浦区  方浜中路  249号\n",
       "1  上海市  宝山区   密山路    5号\n",
       "2  北京市  昌平区   北农路    2号"
      ]
     },
     "execution_count": 90,
     "metadata": {},
     "output_type": "execute_result"
    }
   ],
   "source": [
    "#提取extract\n",
    "s = pd.Series(['上海市黄浦区方浜中路249号',\n",
    "               '上海市宝山区密山路5号',\n",
    "               '北京市昌平区北农路2号'])\n",
    "# pat='(\\w+市)(\\w+区)(\\w+路)(\\d+号)'\n",
    "pat = '(?P<市名>\\w+市)(?P<区名>\\w+区)(?P<路名>\\w+路)(?P<编号>\\d+号)?'\n",
    "s.str.extract(pat)"
   ]
  },
  {
   "cell_type": "markdown",
   "id": "693b90b4",
   "metadata": {},
   "source": [
    "常用字符串函数"
   ]
  },
  {
   "cell_type": "code",
   "execution_count": 88,
   "id": "0054befd",
   "metadata": {},
   "outputs": [
    {
     "data": {
      "text/plain": [
       "0                 LOWER\n",
       "1              CAPITALS\n",
       "2    THIS IS A SENTENCE\n",
       "3              SWAPCASE\n",
       "dtype: object"
      ]
     },
     "execution_count": 88,
     "metadata": {},
     "output_type": "execute_result"
    }
   ],
   "source": [
    "#字母型函数\n",
    "#upper, lower, title, capitalize, swapcase\n",
    "s = pd.Series(['lower', 'CAPITALS', 'this is a sentence', 'SwApCaSe'])\n",
    "s.str.upper()"
   ]
  },
  {
   "cell_type": "code",
   "execution_count": 89,
   "id": "9d32ec58",
   "metadata": {},
   "outputs": [
    {
     "data": {
      "text/plain": [
       "0                 Lower\n",
       "1              Capitals\n",
       "2    This Is A Sentence\n",
       "3              Swapcase\n",
       "dtype: object"
      ]
     },
     "execution_count": 89,
     "metadata": {},
     "output_type": "execute_result"
    }
   ],
   "source": [
    "s.str.title()\n",
    "#以标题形式命名"
   ]
  },
  {
   "cell_type": "code",
   "execution_count": 90,
   "id": "21eb2bb8",
   "metadata": {},
   "outputs": [
    {
     "data": {
      "text/plain": [
       "0                 Lower\n",
       "1              Capitals\n",
       "2    This is a sentence\n",
       "3              Swapcase\n",
       "dtype: object"
      ]
     },
     "execution_count": 90,
     "metadata": {},
     "output_type": "execute_result"
    }
   ],
   "source": [
    "s.str.capitalize()\n",
    "#首字母大写"
   ]
  },
  {
   "cell_type": "code",
   "execution_count": 91,
   "id": "8d53e661",
   "metadata": {},
   "outputs": [
    {
     "data": {
      "text/plain": [
       "0                 LOWER\n",
       "1              capitals\n",
       "2    THIS IS A SENTENCE\n",
       "3              sWaPcAsE\n",
       "dtype: object"
      ]
     },
     "execution_count": 91,
     "metadata": {},
     "output_type": "execute_result"
    }
   ],
   "source": [
    "s.str.swapcase()\n",
    "#大小写转换"
   ]
  },
  {
   "cell_type": "code",
   "execution_count": 92,
   "id": "6e0810ff",
   "metadata": {},
   "outputs": [
    {
     "data": {
      "text/plain": [
       "0       1\n",
       "1     2.2\n",
       "2      2e\n",
       "3      ??\n",
       "4    -2.1\n",
       "5       0\n",
       "dtype: object"
      ]
     },
     "execution_count": 92,
     "metadata": {},
     "output_type": "execute_result"
    }
   ],
   "source": [
    "#数值型函数\n",
    "s = pd.Series(['1', '2.2', '2e', '??', '-2.1', '0'])\n",
    "pd.to_numeric(s, errors='ignore')#保持原来字符串"
   ]
  },
  {
   "cell_type": "code",
   "execution_count": null,
   "id": "f9300809",
   "metadata": {},
   "outputs": [],
   "source": [
    "pd.to_numeric(s, errors='raise')#直接报错"
   ]
  },
  {
   "cell_type": "code",
   "execution_count": 96,
   "id": "45e62b17",
   "metadata": {},
   "outputs": [
    {
     "data": {
      "text/plain": [
       "0    1.0\n",
       "1    2.2\n",
       "2    NaN\n",
       "3    NaN\n",
       "4   -2.1\n",
       "5    0.0\n",
       "dtype: float64"
      ]
     },
     "execution_count": 96,
     "metadata": {},
     "output_type": "execute_result"
    }
   ],
   "source": [
    "pd.to_numeric(s, errors='coerce')#设为缺失值"
   ]
  },
  {
   "cell_type": "code",
   "execution_count": 98,
   "id": "811124d2",
   "metadata": {},
   "outputs": [
    {
     "data": {
      "text/plain": [
       "2    2e\n",
       "3    ??\n",
       "dtype: object"
      ]
     },
     "execution_count": 98,
     "metadata": {},
     "output_type": "execute_result"
    }
   ],
   "source": [
    "#在数据清洗时，可以利用coerce 的设定，快速查看非数值型的行：\n",
    "s[pd.to_numeric(s, errors='coerce').isna()]"
   ]
  },
  {
   "cell_type": "code",
   "execution_count": null,
   "id": "8126bb6e",
   "metadata": {},
   "outputs": [],
   "source": [
    "#统计型函数\n",
    "count 和len 的作用分别是返回出现正则模式的次数和字符串的长度：\n"
   ]
  },
  {
   "cell_type": "code",
   "execution_count": 3,
   "id": "2b0e4b01",
   "metadata": {},
   "outputs": [
    {
     "data": {
      "text/plain": [
       "0    4\n",
       "1    4\n",
       "dtype: int64"
      ]
     },
     "execution_count": 3,
     "metadata": {},
     "output_type": "execute_result"
    }
   ],
   "source": [
    "s = pd.Series(['cat rat fat at', 'get feed sheet heat'])\n",
    "s.str.split().str.len()\n",
    "#计算单词个数"
   ]
  },
  {
   "cell_type": "code",
   "execution_count": 4,
   "id": "cf617515",
   "metadata": {},
   "outputs": [
    {
     "data": {
      "text/plain": [
       "0    14\n",
       "1    19\n",
       "dtype: int64"
      ]
     },
     "execution_count": 4,
     "metadata": {},
     "output_type": "execute_result"
    }
   ],
   "source": [
    "s.str.len()\n",
    "#计算字符串长度"
   ]
  },
  {
   "cell_type": "code",
   "execution_count": 6,
   "id": "b488544d",
   "metadata": {},
   "outputs": [
    {
     "data": {
      "text/plain": [
       "0    2\n",
       "1    2\n",
       "dtype: int64"
      ]
     },
     "execution_count": 6,
     "metadata": {},
     "output_type": "execute_result"
    }
   ],
   "source": [
    "pat='[r|f]at|ee'\n",
    "s.str.count(pat)\n",
    "#[r|f]at|ee 可以匹配三种不同的模式，即以 'rat' 或 'fat' 开头的字符串，或者包含 'ee' 的字符串"
   ]
  },
  {
   "cell_type": "code",
   "execution_count": null,
   "id": "7844e30a",
   "metadata": {},
   "outputs": [],
   "source": [
    "#格式型函数\n",
    "#这些函数在数据清洗时是有用的，特别是列名含有非法空格的时候。\n",
    "#第一种是除空型，strip, rstrip, lstrip\n",
    "my_index = pd.Index([' col1', 'col2 ', ' col3 '])\n",
    "my_index.str.strip().str.len()#去除两侧空格\n",
    "my_index.str.rstrip().str.len()#去除右侧空格\n",
    "my_index.str.lstrip().str.len()#去除左侧空格"
   ]
  },
  {
   "cell_type": "code",
   "execution_count": 3,
   "id": "74e74df3",
   "metadata": {},
   "outputs": [],
   "source": [
    "import pandas as pd\n",
    "my_index = pd.Index([' col1',' col2 ','col3 '])"
   ]
  },
  {
   "cell_type": "code",
   "execution_count": 4,
   "id": "4bcbea3b",
   "metadata": {},
   "outputs": [
    {
     "data": {
      "text/plain": [
       "Index(['col1', 'col2', 'col3'], dtype='object')"
      ]
     },
     "execution_count": 4,
     "metadata": {},
     "output_type": "execute_result"
    }
   ],
   "source": [
    "my_index.str.strip()"
   ]
  },
  {
   "cell_type": "code",
   "execution_count": 5,
   "id": "fe55e2f4",
   "metadata": {},
   "outputs": [
    {
     "data": {
      "text/plain": [
       "Index([' col1', ' col2', 'col3'], dtype='object')"
      ]
     },
     "execution_count": 5,
     "metadata": {},
     "output_type": "execute_result"
    }
   ],
   "source": [
    "my_index.str.rstrip()"
   ]
  },
  {
   "cell_type": "code",
   "execution_count": 6,
   "id": "fdda7c3e",
   "metadata": {},
   "outputs": [
    {
     "data": {
      "text/plain": [
       "Index(['col1', 'col2 ', 'col3 '], dtype='object')"
      ]
     },
     "execution_count": 6,
     "metadata": {},
     "output_type": "execute_result"
    }
   ],
   "source": [
    "my_index.str.lstrip()"
   ]
  },
  {
   "cell_type": "code",
   "execution_count": 110,
   "id": "1b8c9f28",
   "metadata": {},
   "outputs": [
    {
     "data": {
      "text/plain": [
       "0    ****A\n",
       "1    ****B\n",
       "2    ****C\n",
       "dtype: object"
      ]
     },
     "execution_count": 110,
     "metadata": {},
     "output_type": "execute_result"
    }
   ],
   "source": [
    "#pad 是最灵活的，它可以选定字符串长度、填充的方向和填充内容\n",
    "s = pd.Series(['A','B','C'])\n",
    "s.str.pad(5,'left','*')\n",
    "#s.str.rjust(5,'*')"
   ]
  },
  {
   "cell_type": "code",
   "execution_count": 111,
   "id": "5ad5e232",
   "metadata": {},
   "outputs": [
    {
     "data": {
      "text/plain": [
       "0    A****\n",
       "1    B****\n",
       "2    C****\n",
       "dtype: object"
      ]
     },
     "execution_count": 111,
     "metadata": {},
     "output_type": "execute_result"
    }
   ],
   "source": [
    "s.str.pad(5,'right','*')\n",
    "# s.str.ljust(5,'*')"
   ]
  },
  {
   "cell_type": "code",
   "execution_count": 112,
   "id": "4022d890",
   "metadata": {},
   "outputs": [
    {
     "data": {
      "text/plain": [
       "0    **A**\n",
       "1    **B**\n",
       "2    **C**\n",
       "dtype: object"
      ]
     },
     "execution_count": 112,
     "metadata": {},
     "output_type": "execute_result"
    }
   ],
   "source": [
    "s.str.pad(5,'both','*')\n",
    "# s.str.center(5,'*')"
   ]
  },
  {
   "cell_type": "code",
   "execution_count": 116,
   "id": "ace7b0b6",
   "metadata": {},
   "outputs": [
    {
     "data": {
      "text/plain": [
       "0    000007\n",
       "1    000155\n",
       "2    303000\n",
       "dtype: string"
      ]
     },
     "execution_count": 116,
     "metadata": {},
     "output_type": "execute_result"
    }
   ],
   "source": [
    "#数字前补0\n",
    "s = pd.Series([7, 155, 303000]).astype('string')\n",
    "#s.str.pad(6,'left','0')\n",
    "#s.str.rjust(6,'0')\n",
    "s.str.zfill(6)"
   ]
  },
  {
   "cell_type": "code",
   "execution_count": 9,
   "id": "7f9f7242",
   "metadata": {},
   "outputs": [
    {
     "data": {
      "text/plain": [
       "0    001222\n",
       "1    000003\n",
       "2    563123\n",
       "dtype: string"
      ]
     },
     "execution_count": 9,
     "metadata": {},
     "output_type": "execute_result"
    }
   ],
   "source": [
    "s = pd.Series([1222,3,563123]).astype('string')\n",
    "s.str.zfill(6)"
   ]
  },
  {
   "cell_type": "code",
   "execution_count": null,
   "id": "293bb96b",
   "metadata": {},
   "outputs": [],
   "source": []
  }
 ],
 "metadata": {
  "kernelspec": {
   "display_name": "Python 3 (ipykernel)",
   "language": "python",
   "name": "python3"
  },
  "language_info": {
   "codemirror_mode": {
    "name": "ipython",
    "version": 3
   },
   "file_extension": ".py",
   "mimetype": "text/x-python",
   "name": "python",
   "nbconvert_exporter": "python",
   "pygments_lexer": "ipython3",
   "version": "3.10.12"
  }
 },
 "nbformat": 4,
 "nbformat_minor": 5
}
