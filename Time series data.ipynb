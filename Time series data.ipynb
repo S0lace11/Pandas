{
 "cells": [
  {
   "cell_type": "code",
   "execution_count": 96,
   "id": "6e106f05",
   "metadata": {},
   "outputs": [],
   "source": [
    "import pandas as pd\n",
    "import numpy as np"
   ]
  },
  {
   "cell_type": "markdown",
   "id": "b9ddfd47",
   "metadata": {},
   "source": [
    "## 10.2.1 Timestamp 的构造与属性"
   ]
  },
  {
   "cell_type": "code",
   "execution_count": 97,
   "id": "f6f08588",
   "metadata": {},
   "outputs": [
    {
     "data": {
      "text/plain": [
       "Timestamp('2023-07-21 00:00:00')"
      ]
     },
     "execution_count": 97,
     "metadata": {},
     "output_type": "execute_result"
    }
   ],
   "source": [
    "ts = pd.Timestamp('2023-7-21')\n",
    "ts"
   ]
  },
  {
   "cell_type": "code",
   "execution_count": 98,
   "id": "b8ad8a8b",
   "metadata": {},
   "outputs": [
    {
     "data": {
      "text/plain": [
       "Timestamp('2023-07-21 16:01:00')"
      ]
     },
     "execution_count": 98,
     "metadata": {},
     "output_type": "execute_result"
    }
   ],
   "source": [
    "ts = pd.Timestamp('2023-7-21 16:01')\n",
    "ts"
   ]
  },
  {
   "cell_type": "code",
   "execution_count": 99,
   "id": "0e65b57d",
   "metadata": {},
   "outputs": [
    {
     "data": {
      "text/plain": [
       "2023"
      ]
     },
     "execution_count": 99,
     "metadata": {},
     "output_type": "execute_result"
    }
   ],
   "source": [
    "ts.year"
   ]
  },
  {
   "cell_type": "code",
   "execution_count": 100,
   "id": "b61f267e",
   "metadata": {},
   "outputs": [
    {
     "data": {
      "text/plain": [
       "7"
      ]
     },
     "execution_count": 100,
     "metadata": {},
     "output_type": "execute_result"
    }
   ],
   "source": [
    "ts.month"
   ]
  },
  {
   "cell_type": "code",
   "execution_count": 101,
   "id": "776484f3",
   "metadata": {},
   "outputs": [
    {
     "data": {
      "text/plain": [
       "21"
      ]
     },
     "execution_count": 101,
     "metadata": {},
     "output_type": "execute_result"
    }
   ],
   "source": [
    "ts.day"
   ]
  },
  {
   "cell_type": "code",
   "execution_count": 102,
   "id": "1362488c",
   "metadata": {},
   "outputs": [
    {
     "data": {
      "text/plain": [
       "16"
      ]
     },
     "execution_count": 102,
     "metadata": {},
     "output_type": "execute_result"
    }
   ],
   "source": [
    "ts.hour"
   ]
  },
  {
   "cell_type": "code",
   "execution_count": 103,
   "id": "6dde4e49",
   "metadata": {},
   "outputs": [
    {
     "data": {
      "text/plain": [
       "1"
      ]
     },
     "execution_count": 103,
     "metadata": {},
     "output_type": "execute_result"
    }
   ],
   "source": [
    "ts.minute"
   ]
  },
  {
   "cell_type": "code",
   "execution_count": 104,
   "id": "93b550d6",
   "metadata": {},
   "outputs": [
    {
     "data": {
      "text/plain": [
       "0"
      ]
     },
     "execution_count": 104,
     "metadata": {},
     "output_type": "execute_result"
    }
   ],
   "source": [
    "ts.second"
   ]
  },
  {
   "cell_type": "markdown",
   "id": "caeaca0a",
   "metadata": {},
   "source": [
    "## 10.2.2 Datetime 序列的生成"
   ]
  },
  {
   "cell_type": "code",
   "execution_count": 105,
   "id": "d26ba186",
   "metadata": {},
   "outputs": [
    {
     "data": {
      "text/plain": [
       "DatetimeIndex(['2021-01-14', '2022-04-23', '2023-06-07'], dtype='datetime64[ns]', freq=None)"
      ]
     },
     "execution_count": 105,
     "metadata": {},
     "output_type": "execute_result"
    }
   ],
   "source": [
    "#一组时间戳可以组成时间序列，可以用to_datetime 和date_range 来生成。\n",
    "#其中，to_datetime 能够把一列时间戳格式的对象转换成为datetime64[ns] 类型的时间序列\n",
    "pd.to_datetime(['2021-1-14','2022-4-23','2023-6-7'])"
   ]
  },
  {
   "cell_type": "code",
   "execution_count": 106,
   "id": "6b843a3d",
   "metadata": {},
   "outputs": [
    {
     "data": {
      "text/html": [
       "<div>\n",
       "<style scoped>\n",
       "    .dataframe tbody tr th:only-of-type {\n",
       "        vertical-align: middle;\n",
       "    }\n",
       "\n",
       "    .dataframe tbody tr th {\n",
       "        vertical-align: top;\n",
       "    }\n",
       "\n",
       "    .dataframe thead th {\n",
       "        text-align: right;\n",
       "    }\n",
       "</style>\n",
       "<table border=\"1\" class=\"dataframe\">\n",
       "  <thead>\n",
       "    <tr style=\"text-align: right;\">\n",
       "      <th></th>\n",
       "      <th>School</th>\n",
       "      <th>Grade</th>\n",
       "      <th>Name</th>\n",
       "      <th>Gender</th>\n",
       "      <th>Height</th>\n",
       "      <th>Weight</th>\n",
       "      <th>Transfer</th>\n",
       "      <th>Test_Number</th>\n",
       "      <th>Test_Date</th>\n",
       "      <th>Time_Record</th>\n",
       "    </tr>\n",
       "  </thead>\n",
       "  <tbody>\n",
       "    <tr>\n",
       "      <th>0</th>\n",
       "      <td>Shanghai Jiao Tong University</td>\n",
       "      <td>Freshman</td>\n",
       "      <td>Gaopeng Yang</td>\n",
       "      <td>Female</td>\n",
       "      <td>158.9</td>\n",
       "      <td>46.0</td>\n",
       "      <td>N</td>\n",
       "      <td>1</td>\n",
       "      <td>2019/10/5</td>\n",
       "      <td>0:04:34</td>\n",
       "    </tr>\n",
       "    <tr>\n",
       "      <th>1</th>\n",
       "      <td>Peking University</td>\n",
       "      <td>Freshman</td>\n",
       "      <td>Changqiang You</td>\n",
       "      <td>Male</td>\n",
       "      <td>166.5</td>\n",
       "      <td>70.0</td>\n",
       "      <td>N</td>\n",
       "      <td>1</td>\n",
       "      <td>2019/9/4</td>\n",
       "      <td>0:04:20</td>\n",
       "    </tr>\n",
       "    <tr>\n",
       "      <th>2</th>\n",
       "      <td>Shanghai Jiao Tong University</td>\n",
       "      <td>Senior</td>\n",
       "      <td>Mei Sun</td>\n",
       "      <td>Male</td>\n",
       "      <td>188.9</td>\n",
       "      <td>89.0</td>\n",
       "      <td>N</td>\n",
       "      <td>2</td>\n",
       "      <td>2019/9/12</td>\n",
       "      <td>0:05:22</td>\n",
       "    </tr>\n",
       "    <tr>\n",
       "      <th>3</th>\n",
       "      <td>Fudan University</td>\n",
       "      <td>Sophomore</td>\n",
       "      <td>Xiaojuan Sun</td>\n",
       "      <td>Female</td>\n",
       "      <td>NaN</td>\n",
       "      <td>41.0</td>\n",
       "      <td>N</td>\n",
       "      <td>2</td>\n",
       "      <td>2020/1/3</td>\n",
       "      <td>0:04:08</td>\n",
       "    </tr>\n",
       "    <tr>\n",
       "      <th>4</th>\n",
       "      <td>Fudan University</td>\n",
       "      <td>Sophomore</td>\n",
       "      <td>Gaojuan You</td>\n",
       "      <td>Male</td>\n",
       "      <td>174.0</td>\n",
       "      <td>74.0</td>\n",
       "      <td>N</td>\n",
       "      <td>2</td>\n",
       "      <td>2019/11/6</td>\n",
       "      <td>0:05:22</td>\n",
       "    </tr>\n",
       "  </tbody>\n",
       "</table>\n",
       "</div>"
      ],
      "text/plain": [
       "                          School      Grade            Name  Gender  Height  \\\n",
       "0  Shanghai Jiao Tong University   Freshman    Gaopeng Yang  Female   158.9   \n",
       "1              Peking University   Freshman  Changqiang You    Male   166.5   \n",
       "2  Shanghai Jiao Tong University     Senior         Mei Sun    Male   188.9   \n",
       "3               Fudan University  Sophomore    Xiaojuan Sun  Female     NaN   \n",
       "4               Fudan University  Sophomore     Gaojuan You    Male   174.0   \n",
       "\n",
       "   Weight Transfer  Test_Number  Test_Date Time_Record  \n",
       "0    46.0        N            1  2019/10/5     0:04:34  \n",
       "1    70.0        N            1   2019/9/4     0:04:20  \n",
       "2    89.0        N            2  2019/9/12     0:05:22  \n",
       "3    41.0        N            2   2020/1/3     0:04:08  \n",
       "4    74.0        N            2  2019/11/6     0:05:22  "
      ]
     },
     "execution_count": 106,
     "metadata": {},
     "output_type": "execute_result"
    }
   ],
   "source": [
    "df = pd.read_csv('E:\\MyProject\\joyful-pandas-master/data/learn_pandas.csv')\n",
    "df.head()"
   ]
  },
  {
   "cell_type": "code",
   "execution_count": 107,
   "id": "5cfb66e1",
   "metadata": {},
   "outputs": [
    {
     "data": {
      "text/plain": [
       "0   2019-10-05\n",
       "1   2019-09-04\n",
       "2   2019-09-12\n",
       "3   2020-01-03\n",
       "4   2019-11-06\n",
       "Name: Test_Date, dtype: datetime64[ns]"
      ]
     },
     "execution_count": 107,
     "metadata": {},
     "output_type": "execute_result"
    }
   ],
   "source": [
    "s = pd.to_datetime(df['Test_Date'])\n",
    "s.head()"
   ]
  },
  {
   "cell_type": "code",
   "execution_count": 108,
   "id": "4b6ec842",
   "metadata": {},
   "outputs": [
    {
     "data": {
      "text/plain": [
       "DatetimeIndex(['2022-02-15', '2023-11-04'], dtype='datetime64[ns]', freq=None)"
      ]
     },
     "execution_count": 108,
     "metadata": {},
     "output_type": "execute_result"
    }
   ],
   "source": [
    "temp = pd.to_datetime(['2022\\\\2\\\\15','2023\\\\11\\\\4'],format='%Y\\\\%m\\\\%d')\n",
    "temp"
   ]
  },
  {
   "cell_type": "code",
   "execution_count": 109,
   "id": "423105b6",
   "metadata": {},
   "outputs": [
    {
     "data": {
      "text/plain": [
       "0   2022-02-15\n",
       "1   2023-11-04\n",
       "dtype: datetime64[ns]"
      ]
     },
     "execution_count": 109,
     "metadata": {},
     "output_type": "execute_result"
    }
   ],
   "source": [
    "#如果想要转为datetime64[ns] 的序列，需要显式用Series 转化\n",
    "pd.Series(temp).head()"
   ]
  },
  {
   "cell_type": "code",
   "execution_count": 110,
   "id": "369e5831",
   "metadata": {},
   "outputs": [
    {
     "data": {
      "text/plain": [
       "0   2023-01-31 12:30:14\n",
       "1   2023-06-25 16:29:27\n",
       "dtype: datetime64[ns]"
      ]
     },
     "execution_count": 110,
     "metadata": {},
     "output_type": "execute_result"
    }
   ],
   "source": [
    "df_date_cols = pd.DataFrame({'year':[2023,2023],\n",
    "                             'month':[1,6],\n",
    "                             'day':[31,25],\n",
    "                            'hour':[12,16],\n",
    "                           'minute':[30,29],\n",
    "                           'second':[14,27]})\n",
    "pd.to_datetime(df_date_cols)\n",
    "#把表的多列时间属性拼接转为时间序列的to_datetime 操作，此时的列名必须和以下给定的时间关键词列名一致"
   ]
  },
  {
   "cell_type": "code",
   "execution_count": 111,
   "id": "63a833ce",
   "metadata": {},
   "outputs": [
    {
     "data": {
      "text/plain": [
       "DatetimeIndex(['2022-09-08 00:00:00', '2022-10-10 12:00:00',\n",
       "               '2022-11-12 00:00:00', '2022-12-14 12:00:00',\n",
       "               '2023-01-16 00:00:00'],\n",
       "              dtype='datetime64[ns]', freq=None)"
      ]
     },
     "execution_count": 111,
     "metadata": {},
     "output_type": "execute_result"
    }
   ],
   "source": [
    "#date_range 是一种生成连续间隔时间的一种方法，其重要的参数为start, end, freq, periods ，\n",
    "#它们分别表示开始时间，结束时间，时间间隔，时间戳个数\n",
    "pd.date_range(start = '2022-9-8',end = '2023-1-16',periods = 5)"
   ]
  },
  {
   "cell_type": "code",
   "execution_count": 112,
   "id": "1fd9ac17",
   "metadata": {},
   "outputs": [
    {
     "data": {
      "text/plain": [
       "DatetimeIndex(['2020-01-01', '2020-01-11'], dtype='datetime64[ns]', freq='10D')"
      ]
     },
     "execution_count": 112,
     "metadata": {},
     "output_type": "execute_result"
    }
   ],
   "source": [
    "#开始或结束日期如果作为端点则它会被包含\n",
    "pd.date_range(start='2020-1-1',end='2020-1-11',freq = '10D')"
   ]
  },
  {
   "cell_type": "code",
   "execution_count": 113,
   "id": "a4a79b3d",
   "metadata": {},
   "outputs": [
    {
     "data": {
      "text/plain": [
       "DatetimeIndex(['2020-01-01', '2020-01-11', '2020-01-21', '2020-01-31',\n",
       "               '2020-02-10', '2020-02-20'],\n",
       "              dtype='datetime64[ns]', freq='10D')"
      ]
     },
     "execution_count": 113,
     "metadata": {},
     "output_type": "execute_result"
    }
   ],
   "source": [
    "pd.date_range(start='2020-1-1',end='2020-2-28',freq='10D')"
   ]
  },
  {
   "cell_type": "code",
   "execution_count": 114,
   "id": "8ac0d796",
   "metadata": {},
   "outputs": [
    {
     "data": {
      "text/plain": [
       "DatetimeIndex(['2020-01-01 00:00:00', '2020-01-12 14:24:00',\n",
       "               '2020-01-24 04:48:00', '2020-02-04 19:12:00',\n",
       "               '2020-02-16 09:36:00', '2020-02-28 00:00:00'],\n",
       "              dtype='datetime64[ns]', freq=None)"
      ]
     },
     "execution_count": 114,
     "metadata": {},
     "output_type": "execute_result"
    }
   ],
   "source": [
    "pd.date_range('2020-1-1','2020-2-28', periods=6) # 由于结束日期无法取到，freq 不为10 天"
   ]
  },
  {
   "cell_type": "code",
   "execution_count": 115,
   "id": "e43c2ea7",
   "metadata": {},
   "outputs": [
    {
     "data": {
      "text/plain": [
       "2021-01-11    0.942613\n",
       "2021-01-13    0.097920\n",
       "2021-01-15    0.255961\n",
       "2021-01-17    0.097467\n",
       "2021-01-19    0.848534\n",
       "dtype: float64"
      ]
     },
     "execution_count": 115,
     "metadata": {},
     "output_type": "execute_result"
    }
   ],
   "source": [
    "#改变序列采样频率的方法asfreq ，它能够根据给定的freq 对序列进行类似于reindex 的操作\n",
    "s = pd.Series(np.random.rand(5),index = pd.to_datetime(['2021-1-%d'%i for i in range(11,20,2)]))\n",
    "s"
   ]
  },
  {
   "cell_type": "code",
   "execution_count": 116,
   "id": "25fe2ea7",
   "metadata": {},
   "outputs": [
    {
     "data": {
      "text/plain": [
       "2021-01-11    0.942613\n",
       "2021-01-12         NaN\n",
       "2021-01-13    0.097920\n",
       "2021-01-14         NaN\n",
       "2021-01-15    0.255961\n",
       "2021-01-16         NaN\n",
       "2021-01-17    0.097467\n",
       "2021-01-18         NaN\n",
       "2021-01-19    0.848534\n",
       "Freq: D, dtype: float64"
      ]
     },
     "execution_count": 116,
     "metadata": {},
     "output_type": "execute_result"
    }
   ],
   "source": [
    "s.asfreq('D')\n",
    "#改变频率为一天一次"
   ]
  },
  {
   "cell_type": "code",
   "execution_count": 117,
   "id": "40fa5906",
   "metadata": {},
   "outputs": [
    {
     "data": {
      "text/plain": [
       "2021-01-11 00:00:00    0.942613\n",
       "2021-01-11 12:00:00         NaN\n",
       "2021-01-12 00:00:00         NaN\n",
       "2021-01-12 12:00:00         NaN\n",
       "2021-01-13 00:00:00    0.097920\n",
       "Freq: 12H, dtype: float64"
      ]
     },
     "execution_count": 117,
     "metadata": {},
     "output_type": "execute_result"
    }
   ],
   "source": [
    "s.asfreq('12H').head()"
   ]
  },
  {
   "cell_type": "markdown",
   "id": "f21eb65a",
   "metadata": {},
   "source": [
    "## 10.2.3 dt 对象"
   ]
  },
  {
   "cell_type": "code",
   "execution_count": 118,
   "id": "e4ffb38c",
   "metadata": {},
   "outputs": [
    {
     "data": {
      "text/plain": [
       "0    31\n",
       "1    31\n",
       "2    31\n",
       "3    31\n",
       "4    31\n",
       "dtype: int32"
      ]
     },
     "execution_count": 118,
     "metadata": {},
     "output_type": "execute_result"
    }
   ],
   "source": [
    "#这里对于datetime64[ns] 类型而言，可以大致分为三类操作：取出时间相关的属性、判断时间戳是否满足条件、取整操作\n",
    "s = pd.Series(pd.date_range(start='2020-1-3',end='2020-1-7',freq='D')).head()\n",
    "s.dt.date\n",
    "s.dt.year\n",
    "s.dt.month\n",
    "s.dt.day\n",
    "s.dt.daysinmonth\n",
    "#取出时间相关属性"
   ]
  },
  {
   "cell_type": "code",
   "execution_count": 119,
   "id": "254788c1",
   "metadata": {},
   "outputs": [
    {
     "data": {
      "text/plain": [
       "0    4\n",
       "1    5\n",
       "2    6\n",
       "3    0\n",
       "4    1\n",
       "dtype: int32"
      ]
     },
     "execution_count": 119,
     "metadata": {},
     "output_type": "execute_result"
    }
   ],
   "source": [
    "s.dt.dayofweek\n",
    "#它返回了周中的星期情况，周一为0、周二为1"
   ]
  },
  {
   "cell_type": "code",
   "execution_count": 120,
   "id": "72214485",
   "metadata": {},
   "outputs": [
    {
     "data": {
      "text/plain": [
       "0      Friday\n",
       "1    Saturday\n",
       "2      Sunday\n",
       "3      Monday\n",
       "4     Tuesday\n",
       "dtype: object"
      ]
     },
     "execution_count": 120,
     "metadata": {},
     "output_type": "execute_result"
    }
   ],
   "source": [
    "#通过month_name, day_name 返回英文的月名和星期名，他是方法而不是属性\n",
    "s.dt.month_name()\n",
    "s.dt.day_name()"
   ]
  },
  {
   "cell_type": "code",
   "execution_count": 121,
   "id": "e7ff6e3c",
   "metadata": {},
   "outputs": [
    {
     "data": {
      "text/plain": [
       "0    False\n",
       "1    False\n",
       "2    False\n",
       "3    False\n",
       "4    False\n",
       "dtype: bool"
      ]
     },
     "execution_count": 121,
     "metadata": {},
     "output_type": "execute_result"
    }
   ],
   "source": [
    "#第二类判断操作主要用于测试是否为月/季/年的第一天或者最后一天\n",
    "s.dt.is_year_start # 还可选is_quarter/month_start"
   ]
  },
  {
   "cell_type": "code",
   "execution_count": 122,
   "id": "86206671",
   "metadata": {},
   "outputs": [
    {
     "data": {
      "text/plain": [
       "0    False\n",
       "1    False\n",
       "2    False\n",
       "3    False\n",
       "4    False\n",
       "dtype: bool"
      ]
     },
     "execution_count": 122,
     "metadata": {},
     "output_type": "execute_result"
    }
   ],
   "source": [
    "s.dt.is_year_end # 还可选is_quarter/month_end"
   ]
  },
  {
   "cell_type": "code",
   "execution_count": 123,
   "id": "4f40c1d0",
   "metadata": {},
   "outputs": [
    {
     "data": {
      "text/plain": [
       "0   2021-03-14 20:00:00\n",
       "1   2021-03-14 20:45:00\n",
       "2   2021-03-14 21:30:00\n",
       "3   2021-03-14 22:15:00\n",
       "4   2021-03-14 23:00:00\n",
       "dtype: datetime64[ns]"
      ]
     },
     "execution_count": 123,
     "metadata": {},
     "output_type": "execute_result"
    }
   ],
   "source": [
    "#第三类的取整操作包含round, ceil, floor ，它们的公共参数为freq ，\n",
    "#常用的包括H, min, S （小时、分钟、秒），所有可选的freq 可参考此处\n",
    "s = pd.Series(pd.date_range(start = '2021-3-14 20:00',end = '2021-3-14 23:00',freq = '45min'))\n",
    "s"
   ]
  },
  {
   "cell_type": "code",
   "execution_count": 124,
   "id": "dd95d579",
   "metadata": {},
   "outputs": [
    {
     "data": {
      "text/plain": [
       "0   2021-03-14 20:00:00\n",
       "1   2021-03-14 21:00:00\n",
       "2   2021-03-14 22:00:00\n",
       "3   2021-03-14 22:00:00\n",
       "4   2021-03-14 23:00:00\n",
       "dtype: datetime64[ns]"
      ]
     },
     "execution_count": 124,
     "metadata": {},
     "output_type": "execute_result"
    }
   ],
   "source": [
    "s.dt.round('1H')\n",
    "#取到最近接近的时间点"
   ]
  },
  {
   "cell_type": "code",
   "execution_count": 125,
   "id": "bf44dcac",
   "metadata": {},
   "outputs": [
    {
     "data": {
      "text/plain": [
       "0   2021-03-14 20:00:00\n",
       "1   2021-03-14 21:00:00\n",
       "2   2021-03-14 22:00:00\n",
       "3   2021-03-14 23:00:00\n",
       "4   2021-03-14 23:00:00\n",
       "dtype: datetime64[ns]"
      ]
     },
     "execution_count": 125,
     "metadata": {},
     "output_type": "execute_result"
    }
   ],
   "source": [
    "s.dt.ceil('1H')\n",
    "#向大的方向取整"
   ]
  },
  {
   "cell_type": "code",
   "execution_count": 126,
   "id": "331a1bd1",
   "metadata": {},
   "outputs": [
    {
     "data": {
      "text/plain": [
       "0   2021-03-14 20:00:00\n",
       "1   2021-03-14 20:00:00\n",
       "2   2021-03-14 21:00:00\n",
       "3   2021-03-14 22:00:00\n",
       "4   2021-03-14 23:00:00\n",
       "dtype: datetime64[ns]"
      ]
     },
     "execution_count": 126,
     "metadata": {},
     "output_type": "execute_result"
    }
   ],
   "source": [
    "s.dt.floor('1H')\n",
    "#只取小时"
   ]
  },
  {
   "cell_type": "markdown",
   "id": "ca1bd1cc",
   "metadata": {},
   "source": [
    "## 10.2.4 时间戳的切片与索引"
   ]
  },
  {
   "cell_type": "code",
   "execution_count": 127,
   "id": "035b5e9b",
   "metadata": {},
   "outputs": [
    {
     "data": {
      "text/plain": [
       "2022-01-01    1\n",
       "2022-01-02    1\n",
       "2022-01-03    0\n",
       "2022-01-04    1\n",
       "2022-01-05    1\n",
       "Freq: D, dtype: int32"
      ]
     },
     "execution_count": 127,
     "metadata": {},
     "output_type": "execute_result"
    }
   ],
   "source": [
    "s = pd.Series(np.random.randint(2,size = 366),#表示生成的随机整数矩阵的随机数范围，其中 \"2\" 表示随机整数的范围是 [0, 2)，生成矩阵大小为366的一维数组\n",
    "              index=pd.date_range('2022-1-1','2023-1-1'))\n",
    "idx = pd.Series(s.index).dt\n",
    "s.head()"
   ]
  },
  {
   "cell_type": "code",
   "execution_count": 128,
   "id": "273266e0",
   "metadata": {},
   "outputs": [
    {
     "data": {
      "text/plain": [
       "2022-01-01    1\n",
       "2022-01-31    0\n",
       "2022-02-01    1\n",
       "2022-02-28    0\n",
       "2022-03-01    1\n",
       "dtype: int32"
      ]
     },
     "execution_count": 128,
     "metadata": {},
     "output_type": "execute_result"
    }
   ],
   "source": [
    "s[(idx.is_month_start|idx.is_month_end).values].head()\n",
    "#筛选出每月第一天或者最后一天"
   ]
  },
  {
   "cell_type": "code",
   "execution_count": 129,
   "id": "9574ea00",
   "metadata": {},
   "outputs": [
    {
     "data": {
      "text/plain": [
       "2022-01-01    1\n",
       "2022-01-02    1\n",
       "2022-01-08    1\n",
       "2022-01-09    1\n",
       "2022-01-15    1\n",
       "dtype: int32"
      ]
     },
     "execution_count": 129,
     "metadata": {},
     "output_type": "execute_result"
    }
   ],
   "source": [
    "s[(idx.dayofweek.isin([5,6]).values)].head()\n",
    "#筛选出双休日"
   ]
  },
  {
   "cell_type": "code",
   "execution_count": 130,
   "id": "a384f4d6",
   "metadata": {},
   "outputs": [
    {
     "data": {
      "text/plain": [
       "2022-04-01    0\n",
       "2022-04-02    0\n",
       "2022-04-03    0\n",
       "2022-04-04    0\n",
       "2022-04-05    0\n",
       "Freq: D, dtype: int32"
      ]
     },
     "execution_count": 130,
     "metadata": {},
     "output_type": "execute_result"
    }
   ],
   "source": [
    "s['2022-1-1']#取出单日值\n",
    "s['2022-1'].head()#取出单月\n",
    "s['2022-3':'2022-4-5'].head()#取出3月初至4.5\n",
    "s['2022-3':'2022-4-5'].tail()"
   ]
  },
  {
   "cell_type": "markdown",
   "id": "56ce1632",
   "metadata": {},
   "source": [
    "# 10.3 时间差\n",
    "## 10.3.1 Timedelta 的生成"
   ]
  },
  {
   "cell_type": "code",
   "execution_count": 131,
   "id": "1ff077d2",
   "metadata": {},
   "outputs": [
    {
     "data": {
      "text/plain": [
       "Timedelta('1 days 00:10:10')"
      ]
     },
     "execution_count": 131,
     "metadata": {},
     "output_type": "execute_result"
    }
   ],
   "source": [
    "#时间差可以理解为两个时间戳的差\n",
    "pd.Timestamp('2020-1-3 8:00:30')-pd.Timestamp('2020-1-2 7:50:20')"
   ]
  },
  {
   "cell_type": "code",
   "execution_count": 132,
   "id": "72089578",
   "metadata": {},
   "outputs": [
    {
     "data": {
      "text/plain": [
       "Timedelta('1 days 00:30:00')"
      ]
     },
     "execution_count": 132,
     "metadata": {},
     "output_type": "execute_result"
    }
   ],
   "source": [
    "pd.Timedelta(days = 1,minutes = 30)\n",
    "pd.Timedelta('1 days 30 minutes')"
   ]
  },
  {
   "cell_type": "code",
   "execution_count": 133,
   "id": "b0db961b",
   "metadata": {},
   "outputs": [],
   "source": [
    "#生成时间差序列的主要方式是pd.to_timedelta ，其类型为timedelta64[ns]"
   ]
  },
  {
   "cell_type": "code",
   "execution_count": 141,
   "id": "03952164",
   "metadata": {},
   "outputs": [
    {
     "data": {
      "text/plain": [
       "0   0 days 00:04:34\n",
       "1   0 days 00:04:20\n",
       "2   0 days 00:05:22\n",
       "3   0 days 00:04:08\n",
       "4   0 days 00:05:22\n",
       "Name: Time_Record, dtype: timedelta64[ns]"
      ]
     },
     "execution_count": 141,
     "metadata": {},
     "output_type": "execute_result"
    }
   ],
   "source": [
    "s = pd.to_timedelta(df.Time_Record)\n",
    "s.head()"
   ]
  },
  {
   "cell_type": "code",
   "execution_count": 142,
   "id": "3d498176",
   "metadata": {
    "scrolled": true
   },
   "outputs": [
    {
     "data": {
      "text/plain": [
       "TimedeltaIndex(['0 days 00:00:00', '0 days 00:06:00', '0 days 00:12:00'], dtype='timedelta64[ns]', freq='6T')"
      ]
     },
     "execution_count": 142,
     "metadata": {},
     "output_type": "execute_result"
    }
   ],
   "source": [
    "#与date_range 一样，时间差序列也可以用timedelta_range 来生成\n",
    "pd.timedelta_range('0s','1000s',freq='6min')"
   ]
  },
  {
   "cell_type": "code",
   "execution_count": 143,
   "id": "1de67d18",
   "metadata": {},
   "outputs": [
    {
     "data": {
      "text/plain": [
       "TimedeltaIndex(['0 days 00:00:00', '0 days 00:08:20', '0 days 00:16:40'], dtype='timedelta64[ns]', freq=None)"
      ]
     },
     "execution_count": 143,
     "metadata": {},
     "output_type": "execute_result"
    }
   ],
   "source": [
    "pd.timedelta_range('0s','1000s',periods = 3)"
   ]
  },
  {
   "cell_type": "code",
   "execution_count": 145,
   "id": "2e23350f",
   "metadata": {},
   "outputs": [
    {
     "data": {
      "text/plain": [
       "0    274\n",
       "1    260\n",
       "2    322\n",
       "3    248\n",
       "4    322\n",
       "Name: Time_Record, dtype: int32"
      ]
     },
     "execution_count": 145,
     "metadata": {},
     "output_type": "execute_result"
    }
   ],
   "source": [
    "#对于Timedelta 序列，同样也定义了dt 对象，上面主要定义了的属性包括\n",
    "#days, seconds, mircroseconds,nanoseconds ，它们分别返回了对应的时间差特征\n",
    "#seconds 不是指单纯的秒，而是对天数取余后剩余的秒数：\n",
    "s.dt.seconds.head()"
   ]
  },
  {
   "cell_type": "code",
   "execution_count": 147,
   "id": "63b13348",
   "metadata": {},
   "outputs": [
    {
     "data": {
      "text/plain": [
       "0    274.0\n",
       "1    260.0\n",
       "2    322.0\n",
       "3    248.0\n",
       "4    322.0\n",
       "Name: Time_Record, dtype: float64"
      ]
     },
     "execution_count": 147,
     "metadata": {},
     "output_type": "execute_result"
    }
   ],
   "source": [
    "s.dt.total_seconds().head()#不对天数取余计算秒数"
   ]
  },
  {
   "cell_type": "code",
   "execution_count": 151,
   "id": "64b4edda",
   "metadata": {},
   "outputs": [
    {
     "data": {
      "text/plain": [
       "0   0 days 00:05:00\n",
       "1   0 days 00:04:00\n",
       "2   0 days 00:05:00\n",
       "3   0 days 00:04:00\n",
       "4   0 days 00:05:00\n",
       "Name: Time_Record, dtype: timedelta64[ns]"
      ]
     },
     "execution_count": 151,
     "metadata": {},
     "output_type": "execute_result"
    }
   ],
   "source": [
    "pd.to_timedelta(df.Time_Record).dt.round('min').head()#取到最近接近的时间点"
   ]
  },
  {
   "cell_type": "markdown",
   "id": "cdab89a4",
   "metadata": {},
   "source": [
    "## 10.3.2 Timedelta 的运算"
   ]
  },
  {
   "cell_type": "code",
   "execution_count": 180,
   "id": "d296af08",
   "metadata": {},
   "outputs": [],
   "source": [
    "td1 = pd.Timedelta(days = 1)\n",
    "td2 = pd.Timedelta(days = 4)\n",
    "ts = pd.Timestamp('2023-7-23')"
   ]
  },
  {
   "cell_type": "code",
   "execution_count": 181,
   "id": "3c0c7a80",
   "metadata": {},
   "outputs": [
    {
     "data": {
      "text/plain": [
       "Timedelta('2 days 00:00:00')"
      ]
     },
     "execution_count": 181,
     "metadata": {},
     "output_type": "execute_result"
    }
   ],
   "source": [
    "td1*2"
   ]
  },
  {
   "cell_type": "code",
   "execution_count": 182,
   "id": "83929b96",
   "metadata": {},
   "outputs": [
    {
     "data": {
      "text/plain": [
       "Timedelta('3 days 00:00:00')"
      ]
     },
     "execution_count": 182,
     "metadata": {},
     "output_type": "execute_result"
    }
   ],
   "source": [
    "td2-td1"
   ]
  },
  {
   "cell_type": "code",
   "execution_count": 183,
   "id": "9f07f910",
   "metadata": {},
   "outputs": [
    {
     "data": {
      "text/plain": [
       "Timestamp('2023-07-22 00:00:00')"
      ]
     },
     "execution_count": 183,
     "metadata": {},
     "output_type": "execute_result"
    }
   ],
   "source": [
    "ts-td1"
   ]
  },
  {
   "cell_type": "code",
   "execution_count": 197,
   "id": "490a8046",
   "metadata": {},
   "outputs": [],
   "source": [
    "td1 = pd.timedelta_range(start = '1days',periods = 5)#(1,2,3,4,5)\n",
    "td2 = pd.timedelta_range(start = '12hours',freq = '1H',periods = 5)#(['0 days 12:00:00', '0 days 13:00:00', '0 days 14:00:00','0 days 15:00:00', '0 days 16:00:00']\n",
    "ts = pd.date_range('20220506','20220510')"
   ]
  },
  {
   "cell_type": "code",
   "execution_count": 198,
   "id": "731a7c9a",
   "metadata": {},
   "outputs": [
    {
     "data": {
      "text/plain": [
       "TimedeltaIndex(['5 days', '10 days', '15 days', '20 days', '25 days'], dtype='timedelta64[ns]', freq='5D')"
      ]
     },
     "execution_count": 198,
     "metadata": {},
     "output_type": "execute_result"
    }
   ],
   "source": [
    "td1*5"
   ]
  },
  {
   "cell_type": "code",
   "execution_count": 199,
   "id": "0e12dc6c",
   "metadata": {},
   "outputs": [
    {
     "data": {
      "text/plain": [
       "0    0 days\n",
       "1    2 days\n",
       "2    6 days\n",
       "3   12 days\n",
       "4   20 days\n",
       "dtype: timedelta64[ns]"
      ]
     },
     "execution_count": 199,
     "metadata": {},
     "output_type": "execute_result"
    }
   ],
   "source": [
    "td1*pd.Series(list(range(5)))#逐个相乘（1，2，3，4，5）*（0，1，2，3，4）"
   ]
  },
  {
   "cell_type": "code",
   "execution_count": 200,
   "id": "2e0ece04",
   "metadata": {},
   "outputs": [
    {
     "data": {
      "text/plain": [
       "TimedeltaIndex(['0 days 12:00:00', '1 days 11:00:00', '2 days 10:00:00',\n",
       "                '3 days 09:00:00', '4 days 08:00:00'],\n",
       "               dtype='timedelta64[ns]', freq=None)"
      ]
     },
     "execution_count": 200,
     "metadata": {},
     "output_type": "execute_result"
    }
   ],
   "source": [
    "td1-td2"
   ]
  },
  {
   "cell_type": "code",
   "execution_count": 201,
   "id": "70152663",
   "metadata": {},
   "outputs": [
    {
     "data": {
      "text/plain": [
       "DatetimeIndex(['2020-01-02', '2020-01-03', '2020-01-04', '2020-01-05',\n",
       "               '2020-01-06'],\n",
       "              dtype='datetime64[ns]', freq='D')"
      ]
     },
     "execution_count": 201,
     "metadata": {},
     "output_type": "execute_result"
    }
   ],
   "source": [
    "td1 + pd.Timestamp('2020-1-1')"
   ]
  },
  {
   "cell_type": "code",
   "execution_count": 202,
   "id": "1657b381",
   "metadata": {},
   "outputs": [
    {
     "data": {
      "text/plain": [
       "DatetimeIndex(['2022-05-07', '2022-05-09', '2022-05-11', '2022-05-13',\n",
       "               '2022-05-15'],\n",
       "              dtype='datetime64[ns]', freq=None)"
      ]
     },
     "execution_count": 202,
     "metadata": {},
     "output_type": "execute_result"
    }
   ],
   "source": [
    "td1 + ts#日期个数必须对齐"
   ]
  },
  {
   "cell_type": "markdown",
   "id": "7ea311d8",
   "metadata": {},
   "source": [
    "# 10.4 日期偏置\n",
    "## 10.4.1 Offset 对象"
   ]
  },
  {
   "cell_type": "code",
   "execution_count": 203,
   "id": "6a4744f0",
   "metadata": {},
   "outputs": [
    {
     "data": {
      "text/plain": [
       "Timestamp('2020-09-07 00:00:00')"
      ]
     },
     "execution_count": 203,
     "metadata": {},
     "output_type": "execute_result"
    }
   ],
   "source": [
    "#日期偏置是一种和日历相关的特殊时间差，例如回到第一节中的两个问题：\n",
    "#如何求2020 年9 月第一个周一的日期，以及如何求2020 年9 月7 日后的第30 个工作日是哪一天\n",
    "pd.Timestamp('20200831') + pd.offsets.WeekOfMonth(week=0,weekday=0)"
   ]
  },
  {
   "cell_type": "code",
   "execution_count": 205,
   "id": "5e438f03",
   "metadata": {},
   "outputs": [
    {
     "data": {
      "text/plain": [
       "Timestamp('2020-10-19 00:00:00')"
      ]
     },
     "execution_count": 205,
     "metadata": {},
     "output_type": "execute_result"
    }
   ],
   "source": [
    "pd.Timestamp('20200907')+pd.offsets.BDay(30)"
   ]
  },
  {
   "cell_type": "code",
   "execution_count": 207,
   "id": "49f399bd",
   "metadata": {},
   "outputs": [
    {
     "data": {
      "text/plain": [
       "Timestamp('2020-08-03 00:00:00')"
      ]
     },
     "execution_count": 207,
     "metadata": {},
     "output_type": "execute_result"
    }
   ],
   "source": [
    "#Offset 对象在pd.offsets 中被定义。当使用+ 时获取离其最近的下一个日期，当使用- 时获取离其最近的上一个日期\n",
    "pd.Timestamp('20200830')-pd.offsets.WeekOfMonth(week = 0,weekday=0)#八月第一个周一的日期"
   ]
  },
  {
   "cell_type": "code",
   "execution_count": 208,
   "id": "10a56c75",
   "metadata": {},
   "outputs": [
    {
     "data": {
      "text/plain": [
       "Timestamp('2020-07-20 00:00:00')"
      ]
     },
     "execution_count": 208,
     "metadata": {},
     "output_type": "execute_result"
    }
   ],
   "source": [
    "pd.Timestamp('20200830')-pd.offsets.BDay(30)"
   ]
  },
  {
   "cell_type": "code",
   "execution_count": 216,
   "id": "4331fc74",
   "metadata": {},
   "outputs": [
    {
     "data": {
      "text/plain": [
       "Timestamp('2020-07-20 00:00:00')"
      ]
     },
     "execution_count": 216,
     "metadata": {},
     "output_type": "execute_result"
    }
   ],
   "source": [
    "pd.Timestamp('20200829')-pd.offsets.BDay(30)"
   ]
  },
  {
   "cell_type": "code",
   "execution_count": 213,
   "id": "464c4649",
   "metadata": {},
   "outputs": [
    {
     "data": {
      "text/plain": [
       "Timestamp('2020-08-31 00:00:00')"
      ]
     },
     "execution_count": 213,
     "metadata": {},
     "output_type": "execute_result"
    }
   ],
   "source": [
    "pd.Timestamp('20200907')-pd.offsets.MonthEnd()#距离最近的一个月末"
   ]
  },
  {
   "cell_type": "code",
   "execution_count": 221,
   "id": "f7f3149f",
   "metadata": {},
   "outputs": [],
   "source": [
    "#CDay ，其中的holidays, weekmask 参数能够分别对自定义的日期和星期进行过滤，\n",
    "#前者传入了需要过滤的日期列表，后者传入的是三个字母的星期缩写构成的星期字符串，其作用是只保留字符串中出现的星期\n",
    "my_filter = pd.offsets.CDay(n = 1,weekmask = 'Thu Sat',holidays = ['20200109'])\n",
    "#weekmask参数用于定义一周的工作日规则\n",
    "#holidays 参数可以传入一个日期数组，表示工作日偏移量中要跳过的假期日期。\n",
    "#如果某个日期在 holidays 数组中，那么在进行日期偏移计算时将会跳过这些假期日期\n",
    "dr = pd.date_range(start='20200106',end='20200111')"
   ]
  },
  {
   "cell_type": "code",
   "execution_count": 223,
   "id": "22ff6845",
   "metadata": {},
   "outputs": [
    {
     "data": {
      "text/plain": [
       "2020-01-06    0\n",
       "2020-01-07    1\n",
       "2020-01-08    2\n",
       "2020-01-09    3\n",
       "2020-01-10    4\n",
       "2020-01-11    5\n",
       "Freq: D, dtype: int32"
      ]
     },
     "execution_count": 223,
     "metadata": {},
     "output_type": "execute_result"
    }
   ],
   "source": [
    "dr.to_series().dt.dayofweek"
   ]
  },
  {
   "cell_type": "code",
   "execution_count": 224,
   "id": "702ae23a",
   "metadata": {},
   "outputs": [
    {
     "data": {
      "text/plain": [
       "[Timestamp('2020-01-09 00:00:00'),\n",
       " Timestamp('2020-01-09 00:00:00'),\n",
       " Timestamp('2020-01-09 00:00:00'),\n",
       " Timestamp('2020-01-11 00:00:00'),\n",
       " Timestamp('2020-01-11 00:00:00'),\n",
       " Timestamp('2020-01-16 00:00:00')]"
      ]
     },
     "execution_count": 224,
     "metadata": {},
     "output_type": "execute_result"
    }
   ],
   "source": [
    "[i + my_filter for i in dr]"
   ]
  },
  {
   "cell_type": "markdown",
   "id": "5c5662b0",
   "metadata": {},
   "source": [
    "## 10.4.2 偏置字符串"
   ]
  },
  {
   "cell_type": "markdown",
   "id": "db5613cc",
   "metadata": {},
   "source": [
    "<br />M：代表月历日历，表示每个月的最后一个日历日。\n",
    "<br />A：代表年历日历，表示每年的最后一个日历日。\n",
    "<br />Q：代表季度日历，表示每个季度的最后一个日历日。\n",
    "<br />BM：代表工作月频率（Business Month），表示每个月的最后一个工作日。\n",
    "<br />BA：代表工作年频率（Business Year），表示每年的最后一个工作日。\n",
    "<br />BQ：代表工作季度频率（Business Quarter），表示每个季度的最后一个工作日。\n",
    "<br />W：代表周频率（Week），表示每周的最后一天（通常为周日）。"
   ]
  },
  {
   "cell_type": "code",
   "execution_count": 248,
   "id": "ebd55db4",
   "metadata": {},
   "outputs": [
    {
     "data": {
      "text/plain": [
       "DatetimeIndex(['2020-01-16', '2020-02-20', '2020-03-19'], dtype='datetime64[ns]', freq='WOM-3THU')"
      ]
     },
     "execution_count": 248,
     "metadata": {},
     "output_type": "execute_result"
    }
   ],
   "source": [
    "#pd.date_range('20200101','20200401',freq='MS')#筛选出月份区间的第一天(月初)\n",
    "#pd.date_range('20200101','20200401',freq=pd.offsets.MonthBegin())\n",
    "\n",
    "#pd.date_range('20200101','20200401',freq='M')#筛选出月份区间的最后一天(月末)\n",
    "#pd.date_range('20200101','20200401',freq=pd.offsets.MonthEnd())\n",
    "\n",
    "#pd.date_range('20200101','20200110',freq = 'B')#筛选出工作日\n",
    "#pd.date_range('20200101','20200110',freq = pd.offsets.BDay())\n",
    "\n",
    "#pd.date_range('20200101','20200301',freq='W-TUE')#周二\n",
    "#pd.date_range('20200101','20200301',freq=pd.offsets.CDay(weekmask='Tue'))\n",
    "\n",
    "#pd.date_range('20200101','20200401',freq='WOM-3THU')#每个月的第三个周四\n",
    "pd.date_range('20200101','20200401',freq=pd.offsets.WeekOfMonth(week=2,weekday=3))\n"
   ]
  },
  {
   "cell_type": "markdown",
   "id": "2cea1168",
   "metadata": {},
   "source": [
    "# 10.5 时序中的滑窗与分组\n",
    "## 10.5.1 滑动窗口"
   ]
  },
  {
   "cell_type": "code",
   "execution_count": 250,
   "id": "764947f9",
   "metadata": {},
   "outputs": [
    {
     "data": {
      "text/plain": [
       "2020-01-01   -1\n",
       "2020-01-02   -2\n",
       "2020-01-03   -1\n",
       "2020-01-06   -1\n",
       "2020-01-07   -2\n",
       "Freq: B, dtype: int32"
      ]
     },
     "execution_count": 250,
     "metadata": {},
     "output_type": "execute_result"
    }
   ],
   "source": [
    "import matplotlib.pyplot as plt\n",
    "idx = pd.date_range('20200101', '20201231', freq='B')\n",
    "np.random.seed(2020)\n",
    "data = np.random.randint(-1,2,len(idx)).cumsum() # 随机游动构造模拟序列\n",
    "s = pd.Series(data,index=idx)\n",
    "s.head()"
   ]
  },
  {
   "cell_type": "code",
   "execution_count": 252,
   "id": "765ab7d0",
   "metadata": {},
   "outputs": [
    {
     "data": {
      "text/plain": [
       "[<matplotlib.lines.Line2D at 0x2352db769e0>]"
      ]
     },
     "execution_count": 252,
     "metadata": {},
     "output_type": "execute_result"
    },
    {
     "data": {
      "image/png": "[encoded data removed]",
      "text/plain": [
       "<Figure size 640x480 with 1 Axes>"
      ]
     },
     "metadata": {},
     "output_type": "display_data"
    }
   ],
   "source": [
    "#在股票市场中有一个指标为BOLL 指标，它由中轨线、上轨线、下轨线这三根线构成，\n",
    "#具体的计算方法分别是N 日均值线、N日均值加两倍N 日标准差线、N 日均值减两倍N 日标准差线。利用rolling 对象计算N=30 的BOLL 指标\n",
    "r = s.rolling('30D')\n",
    "plt.plot(s)\n",
    "plt.title='BOLL LINES'\n",
    "plt.plot(r.mean())\n",
    "plt.plot(r.mean()+2*r.std())\n",
    "plt.plot(r.mean()-2*r.std())"
   ]
  },
  {
   "cell_type": "code",
   "execution_count": 253,
   "id": "77440d76",
   "metadata": {},
   "outputs": [
    {
     "data": {
      "text/plain": [
       "2020-02-20   -1\n",
       "2020-02-21   -2\n",
       "2020-02-22   -1\n",
       "2020-02-25   -1\n",
       "2020-02-26   -2\n",
       "dtype: int32"
      ]
     },
     "execution_count": 253,
     "metadata": {},
     "output_type": "execute_result"
    }
   ],
   "source": [
    "#对于shift 函数而言，作用在datetime64 为索引的序列上时，可以指定freq 单位进行滑动\n",
    "s.shift(freq='50D').head()#从第50天开始统计"
   ]
  },
  {
   "cell_type": "code",
   "execution_count": 254,
   "id": "418fcb2f",
   "metadata": {},
   "outputs": [
    {
     "data": {
      "text/plain": [
       "0   2020-01-01\n",
       "1   2020-01-02\n",
       "2   2020-01-03\n",
       "3   2020-01-06\n",
       "4   2020-01-07\n",
       "dtype: datetime64[ns]"
      ]
     },
     "execution_count": 254,
     "metadata": {},
     "output_type": "execute_result"
    }
   ],
   "source": [
    "#datetime64[ns] 的序列进行diff 后就能够得到timedelta64[ns] 的序列，这能够使用户方便地观察有序时间序列的间隔\n",
    "my_series = pd.Series(s.index)\n",
    "my_series.head()"
   ]
  },
  {
   "cell_type": "code",
   "execution_count": 255,
   "id": "62b26c5d",
   "metadata": {
    "scrolled": true
   },
   "outputs": [
    {
     "data": {
      "text/plain": [
       "0      NaT\n",
       "1   1 days\n",
       "2   1 days\n",
       "3   3 days\n",
       "4   1 days\n",
       "dtype: timedelta64[ns]"
      ]
     },
     "execution_count": 255,
     "metadata": {},
     "output_type": "execute_result"
    }
   ],
   "source": [
    "my_series.diff(1).head()"
   ]
  },
  {
   "cell_type": "markdown",
   "id": "d3053a51",
   "metadata": {},
   "source": [
    "## 10.5.2 重采样"
   ]
  },
  {
   "cell_type": "code",
   "execution_count": 256,
   "id": "5814172e",
   "metadata": {},
   "outputs": [
    {
     "data": {
      "text/plain": [
       "2020-01-01   -2.000000\n",
       "2020-01-11   -3.166667\n",
       "2020-01-21   -3.625000\n",
       "2020-01-31   -4.000000\n",
       "2020-02-10   -0.375000\n",
       "Freq: 10D, dtype: float64"
      ]
     },
     "execution_count": 256,
     "metadata": {},
     "output_type": "execute_result"
    }
   ],
   "source": [
    "#重采样对象resample 和第四章中分组对象groupby 的用法类似，前者是针对时间序列的分组计算而设计的分组对象。\n",
    "s.resample('10D').mean().head()#计算10天的均值"
   ]
  },
  {
   "cell_type": "code",
   "execution_count": 258,
   "id": "b31e671a",
   "metadata": {},
   "outputs": [
    {
     "data": {
      "text/plain": [
       "2020-01-01    4\n",
       "2020-01-21    4\n",
       "2020-02-10    5\n",
       "2020-03-01    3\n",
       "2020-03-21    4\n",
       "Freq: 20D, dtype: int32"
      ]
     },
     "execution_count": 258,
     "metadata": {},
     "output_type": "execute_result"
    }
   ],
   "source": [
    "#可以利用内置函数\n",
    "s.resample('20D').apply(lambda x:x.max()-x.min()).head()#计算20天的极差"
   ]
  },
  {
   "cell_type": "code",
   "execution_count": 278,
   "id": "79e898ec",
   "metadata": {},
   "outputs": [
    {
     "data": {
      "text/plain": [
       "2020-01-01 08:21:18    0\n",
       "2020-01-01 08:22:35   -1\n",
       "2020-01-01 08:23:52   -1\n",
       "2020-01-01 08:25:09   -2\n",
       "2020-01-01 08:26:26   -1\n",
       "Freq: 77S, dtype: int32"
      ]
     },
     "execution_count": 278,
     "metadata": {},
     "output_type": "execute_result"
    }
   ],
   "source": [
    "idx = pd.date_range('20200101 8:21:18','20200101 9:27:37',freq='77s')\n",
    "data = np.random.randint(-1,2,len(idx)).cumsum()\n",
    "s = pd.Series(data,index =idx)\n",
    "s.head()#区间左闭右开"
   ]
  },
  {
   "cell_type": "code",
   "execution_count": 280,
   "id": "d89a119d",
   "metadata": {},
   "outputs": [
    {
     "data": {
      "text/plain": [
       "2020-01-01 08:17:00   -0.666667\n",
       "2020-01-01 08:24:00   -0.600000\n",
       "2020-01-01 08:31:00   -2.333333\n",
       "2020-01-01 08:38:00   -1.800000\n",
       "2020-01-01 08:45:00    0.000000\n",
       "Freq: 7T, dtype: float64"
      ]
     },
     "execution_count": 280,
     "metadata": {},
     "output_type": "execute_result"
    }
   ],
   "source": [
    "#默认情况下起始值的计算方法是从最小值时间戳对应日期的午夜00:00:00 开始增加freq直到不超过该最小时间戳的最大时间戳，由此对应的时间戳为起始值\n",
    "s.resample('7min').mean().head()"
   ]
  },
  {
   "cell_type": "code",
   "execution_count": 283,
   "id": "a5fd0314",
   "metadata": {},
   "outputs": [
    {
     "data": {
      "text/plain": [
       "2020-01-01 08:21:18   -0.833333\n",
       "2020-01-01 08:28:18   -1.200000\n",
       "2020-01-01 08:35:18   -2.166667\n",
       "2020-01-01 08:42:18   -0.800000\n",
       "2020-01-01 08:49:18   -0.666667\n",
       "Freq: 7T, dtype: float64"
      ]
     },
     "execution_count": 283,
     "metadata": {},
     "output_type": "execute_result"
    }
   ],
   "source": [
    "#希望从序列的最小时间戳开始依次增加freq 进行分组，此时可以指定origin 参数为start\n",
    "s.resample('7min',origin='start').mean().head()"
   ]
  },
  {
   "cell_type": "code",
   "execution_count": null,
   "id": "12e05430",
   "metadata": {},
   "outputs": [],
   "source": []
  }
 ],
 "metadata": {
  "kernelspec": {
   "display_name": "Python 3 (ipykernel)",
   "language": "python",
   "name": "python3"
  },
  "language_info": {
   "codemirror_mode": {
    "name": "ipython",
    "version": 3
   },
   "file_extension": ".py",
   "mimetype": "text/x-python",
   "name": "python",
   "nbconvert_exporter": "python",
   "pygments_lexer": "ipython3",
   "version": "3.10.12"
  }
 },
 "nbformat": 4,
 "nbformat_minor": 5
}
