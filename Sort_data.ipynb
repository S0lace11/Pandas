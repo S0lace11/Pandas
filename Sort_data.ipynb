{
 "cells": [
  {
   "cell_type": "code",
   "execution_count": 9,
   "id": "632c6f4f",
   "metadata": {},
   "outputs": [
    {
     "data": {
      "text/plain": [
       "(200, 5)"
      ]
     },
     "execution_count": 9,
     "metadata": {},
     "output_type": "execute_result"
    }
   ],
   "source": [
    "import pandas as pd\n",
    "import numpy as np\n",
    "df = pd.read_csv(('E:\\MyProject\\joyful-pandas-master\\data/learn_pandas.csv'),\n",
    "                 usecols = ['Grade', 'Name', 'Gender', 'Height', 'Weight'])\n",
    "df.shape"
   ]
  },
  {
   "cell_type": "code",
   "execution_count": 2,
   "id": "b7353fb0",
   "metadata": {},
   "outputs": [
    {
     "data": {
      "text/plain": [
       "0     Freshman\n",
       "1     Freshman\n",
       "2       Senior\n",
       "3    Sophomore\n",
       "4    Sophomore\n",
       "Name: Grade, dtype: category\n",
       "Categories (4, object): ['Freshman', 'Junior', 'Senior', 'Sophomore']"
      ]
     },
     "execution_count": 2,
     "metadata": {},
     "output_type": "execute_result"
    }
   ],
   "source": [
    "s= df['Grade'].astype('category')\n",
    "s.head()"
   ]
  },
  {
   "cell_type": "code",
   "execution_count": 4,
   "id": "6089edf9",
   "metadata": {},
   "outputs": [
    {
     "data": {
      "text/plain": [
       "Index(['Freshman', 'Junior', 'Senior', 'Sophomore'], dtype='object')"
      ]
     },
     "execution_count": 4,
     "metadata": {},
     "output_type": "execute_result"
    }
   ],
   "source": [
    "#对于一个具体的分类，有两个组成部分，其一为类别的本身，它以Index 类型存储，其二为是否有序，它们都可以通过cat 的属性被访问\n",
    "s.cat.categories"
   ]
  },
  {
   "cell_type": "code",
   "execution_count": 5,
   "id": "711dbcd6",
   "metadata": {},
   "outputs": [
    {
     "data": {
      "text/plain": [
       "False"
      ]
     },
     "execution_count": 5,
     "metadata": {},
     "output_type": "execute_result"
    }
   ],
   "source": [
    "s.cat.ordered\n",
    "#是否有序"
   ]
  },
  {
   "cell_type": "code",
   "execution_count": 6,
   "id": "555c4626",
   "metadata": {},
   "outputs": [
    {
     "data": {
      "text/plain": [
       "0    0\n",
       "1    0\n",
       "2    2\n",
       "3    3\n",
       "4    3\n",
       "dtype: int8"
      ]
     },
     "execution_count": 6,
     "metadata": {},
     "output_type": "execute_result"
    }
   ],
   "source": [
    "#每一个序列的类别会被赋予唯一的整数编号，它们的编号取决于cat.categories 中的顺序\n",
    "s.cat.codes.head()"
   ]
  },
  {
   "cell_type": "markdown",
   "id": "268bf237",
   "metadata": {},
   "source": [
    "类别的增删改查"
   ]
  },
  {
   "cell_type": "code",
   "execution_count": 43,
   "id": "90b3b0d9",
   "metadata": {},
   "outputs": [
    {
     "data": {
      "text/plain": [
       "Index(['Freshman', 'Junior', 'Senior', 'Sophomore', 'Graduated'], dtype='object')"
      ]
     },
     "execution_count": 43,
     "metadata": {},
     "output_type": "execute_result"
    }
   ],
   "source": [
    "#add_categories\n",
    "s = s.cat.add_categories('Graduated')#增加一列新的类别\n",
    "s.cat.categories"
   ]
  },
  {
   "cell_type": "code",
   "execution_count": 44,
   "id": "16cda95d",
   "metadata": {},
   "outputs": [
    {
     "data": {
      "text/plain": [
       "Index(['Freshman', 'Graduated', 'Junior', 'Senior'], dtype='object')"
      ]
     },
     "execution_count": 44,
     "metadata": {},
     "output_type": "execute_result"
    }
   ],
   "source": [
    "#删除某一个类别可以使用remove_categories ，同时所有原来序列中的该类会被设置为缺失\n",
    "s = s.cat.remove_categories('Sophomore')\n",
    "s.cat.categories"
   ]
  },
  {
   "cell_type": "code",
   "execution_count": 45,
   "id": "75e10140",
   "metadata": {},
   "outputs": [
    {
     "data": {
      "text/plain": [
       "0    Freshman\n",
       "1    Freshman\n",
       "2      Senior\n",
       "3         NaN\n",
       "4         NaN\n",
       "Name: Grade, dtype: category\n",
       "Categories (4, object): ['Freshman', 'Graduated', 'Junior', 'Senior']"
      ]
     },
     "execution_count": 45,
     "metadata": {},
     "output_type": "execute_result"
    }
   ],
   "source": [
    "s.head()"
   ]
  },
  {
   "cell_type": "code",
   "execution_count": 46,
   "id": "5dde4330",
   "metadata": {},
   "outputs": [
    {
     "data": {
      "text/plain": [
       "Index(['Freshman', 'PhD'], dtype='object')"
      ]
     },
     "execution_count": 46,
     "metadata": {},
     "output_type": "execute_result"
    }
   ],
   "source": [
    "#set_categories 直接设置序列的新类别，原来的类别中如果存在元素不属于新类别，那么会被设置为缺失\n",
    "s=s.cat.set_categories(['Freshman','PhD'])\n",
    "s.cat.categories"
   ]
  },
  {
   "cell_type": "code",
   "execution_count": 47,
   "id": "8fa64082",
   "metadata": {},
   "outputs": [
    {
     "data": {
      "text/plain": [
       "0    Freshman\n",
       "1    Freshman\n",
       "2         NaN\n",
       "3         NaN\n",
       "4         NaN\n",
       "Name: Grade, dtype: category\n",
       "Categories (2, object): ['Freshman', 'PhD']"
      ]
     },
     "execution_count": 47,
     "metadata": {},
     "output_type": "execute_result"
    }
   ],
   "source": [
    "s.head()"
   ]
  },
  {
   "cell_type": "code",
   "execution_count": 48,
   "id": "70ac9c91",
   "metadata": {},
   "outputs": [
    {
     "data": {
      "text/plain": [
       "Index(['Freshman'], dtype='object')"
      ]
     },
     "execution_count": 48,
     "metadata": {},
     "output_type": "execute_result"
    }
   ],
   "source": [
    "#要删除未出现在序列中的类别，可以使用remove_unused_categories\n",
    "#s = s.cat.remove_unused_categories()\n",
    "s = s.cat.remove_unused_categories()\n",
    "#移除了博士类\n",
    "s.cat.categories"
   ]
  },
  {
   "cell_type": "code",
   "execution_count": 51,
   "id": "55a726ad",
   "metadata": {},
   "outputs": [
    {
     "data": {
      "text/plain": [
       "0    本科一年级学生\n",
       "1    本科一年级学生\n",
       "2        NaN\n",
       "3        NaN\n",
       "4        NaN\n",
       "Name: Grade, dtype: category\n",
       "Categories (1, object): ['本科一年级学生']"
      ]
     },
     "execution_count": 51,
     "metadata": {},
     "output_type": "execute_result"
    }
   ],
   "source": [
    "#修改的操作，这可以通过rename_categories 方法完成，同时需要注意的是，这个方法会对原序列的对应值也进行相应修改\n",
    "s = s.cat.rename_categories({'Freshman':'本科一年级学生'})\n",
    "s.head()"
   ]
  },
  {
   "cell_type": "markdown",
   "id": "593c99a0",
   "metadata": {},
   "source": [
    "有序分类"
   ]
  },
  {
   "cell_type": "code",
   "execution_count": 11,
   "id": "1a2284aa",
   "metadata": {},
   "outputs": [
    {
     "data": {
      "text/plain": [
       "0     Freshman\n",
       "1     Freshman\n",
       "2       Senior\n",
       "3    Sophomore\n",
       "4    Sophomore\n",
       "Name: Grade, dtype: category\n",
       "Categories (4, object): ['Freshman' < 'Junior' < 'Senior' < 'Sophomore']"
      ]
     },
     "execution_count": 11,
     "metadata": {},
     "output_type": "execute_result"
    }
   ],
   "source": [
    "#利用reorder_categories进行有序分类，传入的参数必须是由当前序列的无需类别构成的列表，\n",
    "#不能够增加新的类别，也不能缺少原来的类别，并且必须指定参数ordered=True\n",
    "s = df['Grade'].astype('category')\n",
    "s = s.cat.reorder_categories(['Freshman', 'Junior', 'Senior', 'Sophomore'],ordered = True)\n",
    "s.head()\n",
    "# df.set_index('Grade').sort_index()"
   ]
  },
  {
   "cell_type": "code",
   "execution_count": 54,
   "id": "6e6399f3",
   "metadata": {},
   "outputs": [
    {
     "data": {
      "text/plain": [
       "0     Freshman\n",
       "1     Freshman\n",
       "2       Senior\n",
       "3    Sophomore\n",
       "4    Sophomore\n",
       "Name: Grade, dtype: category\n",
       "Categories (4, object): ['Freshman', 'Junior', 'Senior', 'Sophomore']"
      ]
     },
     "execution_count": 54,
     "metadata": {},
     "output_type": "execute_result"
    }
   ],
   "source": [
    "s.cat.as_unordered().head()\n",
    "#重新变为无序排列"
   ]
  },
  {
   "cell_type": "code",
   "execution_count": 12,
   "id": "9d9b4f86",
   "metadata": {},
   "outputs": [
    {
     "data": {
      "text/html": [
       "<div>\n",
       "<style scoped>\n",
       "    .dataframe tbody tr th:only-of-type {\n",
       "        vertical-align: middle;\n",
       "    }\n",
       "\n",
       "    .dataframe tbody tr th {\n",
       "        vertical-align: top;\n",
       "    }\n",
       "\n",
       "    .dataframe thead th {\n",
       "        text-align: right;\n",
       "    }\n",
       "</style>\n",
       "<table border=\"1\" class=\"dataframe\">\n",
       "  <thead>\n",
       "    <tr style=\"text-align: right;\">\n",
       "      <th></th>\n",
       "      <th>Grade</th>\n",
       "      <th>Name</th>\n",
       "      <th>Gender</th>\n",
       "      <th>Height</th>\n",
       "      <th>Weight</th>\n",
       "    </tr>\n",
       "  </thead>\n",
       "  <tbody>\n",
       "    <tr>\n",
       "      <th>0</th>\n",
       "      <td>Freshman</td>\n",
       "      <td>Gaopeng Yang</td>\n",
       "      <td>Female</td>\n",
       "      <td>158.9</td>\n",
       "      <td>46.0</td>\n",
       "    </tr>\n",
       "    <tr>\n",
       "      <th>105</th>\n",
       "      <td>Freshman</td>\n",
       "      <td>Qiang Shi</td>\n",
       "      <td>Female</td>\n",
       "      <td>164.5</td>\n",
       "      <td>52.0</td>\n",
       "    </tr>\n",
       "    <tr>\n",
       "      <th>96</th>\n",
       "      <td>Freshman</td>\n",
       "      <td>Changmei Feng</td>\n",
       "      <td>Female</td>\n",
       "      <td>163.8</td>\n",
       "      <td>56.0</td>\n",
       "    </tr>\n",
       "    <tr>\n",
       "      <th>88</th>\n",
       "      <td>Freshman</td>\n",
       "      <td>Xiaopeng Han</td>\n",
       "      <td>Female</td>\n",
       "      <td>164.1</td>\n",
       "      <td>53.0</td>\n",
       "    </tr>\n",
       "    <tr>\n",
       "      <th>81</th>\n",
       "      <td>Freshman</td>\n",
       "      <td>Yanli Zhang</td>\n",
       "      <td>Female</td>\n",
       "      <td>165.1</td>\n",
       "      <td>52.0</td>\n",
       "    </tr>\n",
       "  </tbody>\n",
       "</table>\n",
       "</div>"
      ],
      "text/plain": [
       "        Grade           Name  Gender  Height  Weight\n",
       "0    Freshman   Gaopeng Yang  Female   158.9    46.0\n",
       "105  Freshman      Qiang Shi  Female   164.5    52.0\n",
       "96   Freshman  Changmei Feng  Female   163.8    56.0\n",
       "88   Freshman   Xiaopeng Han  Female   164.1    53.0\n",
       "81   Freshman    Yanli Zhang  Female   165.1    52.0"
      ]
     },
     "execution_count": 12,
     "metadata": {},
     "output_type": "execute_result"
    }
   ],
   "source": [
    "#有序类值排序\n",
    "df['Grade']=df['Grade'].astype('category')\n",
    "df['Grade']=df['Grade'].cat.reorder_categories(['Freshman', 'Sophomore', 'Junior', 'Senior'],ordered = True)\n",
    "df.sort_values('Grade').head()"
   ]
  },
  {
   "cell_type": "code",
   "execution_count": 13,
   "id": "d405f6bd",
   "metadata": {},
   "outputs": [
    {
     "data": {
      "text/html": [
       "<div>\n",
       "<style scoped>\n",
       "    .dataframe tbody tr th:only-of-type {\n",
       "        vertical-align: middle;\n",
       "    }\n",
       "\n",
       "    .dataframe tbody tr th {\n",
       "        vertical-align: top;\n",
       "    }\n",
       "\n",
       "    .dataframe thead th {\n",
       "        text-align: right;\n",
       "    }\n",
       "</style>\n",
       "<table border=\"1\" class=\"dataframe\">\n",
       "  <thead>\n",
       "    <tr style=\"text-align: right;\">\n",
       "      <th></th>\n",
       "      <th>Name</th>\n",
       "      <th>Gender</th>\n",
       "      <th>Height</th>\n",
       "      <th>Weight</th>\n",
       "    </tr>\n",
       "    <tr>\n",
       "      <th>Grade</th>\n",
       "      <th></th>\n",
       "      <th></th>\n",
       "      <th></th>\n",
       "      <th></th>\n",
       "    </tr>\n",
       "  </thead>\n",
       "  <tbody>\n",
       "    <tr>\n",
       "      <th>Freshman</th>\n",
       "      <td>Gaopeng Yang</td>\n",
       "      <td>Female</td>\n",
       "      <td>158.9</td>\n",
       "      <td>46.0</td>\n",
       "    </tr>\n",
       "    <tr>\n",
       "      <th>Freshman</th>\n",
       "      <td>Qiang Shi</td>\n",
       "      <td>Female</td>\n",
       "      <td>164.5</td>\n",
       "      <td>52.0</td>\n",
       "    </tr>\n",
       "    <tr>\n",
       "      <th>Freshman</th>\n",
       "      <td>Changmei Feng</td>\n",
       "      <td>Female</td>\n",
       "      <td>163.8</td>\n",
       "      <td>56.0</td>\n",
       "    </tr>\n",
       "    <tr>\n",
       "      <th>Freshman</th>\n",
       "      <td>Xiaopeng Han</td>\n",
       "      <td>Female</td>\n",
       "      <td>164.1</td>\n",
       "      <td>53.0</td>\n",
       "    </tr>\n",
       "    <tr>\n",
       "      <th>Freshman</th>\n",
       "      <td>Yanli Zhang</td>\n",
       "      <td>Female</td>\n",
       "      <td>165.1</td>\n",
       "      <td>52.0</td>\n",
       "    </tr>\n",
       "  </tbody>\n",
       "</table>\n",
       "</div>"
      ],
      "text/plain": [
       "                   Name  Gender  Height  Weight\n",
       "Grade                                          \n",
       "Freshman   Gaopeng Yang  Female   158.9    46.0\n",
       "Freshman      Qiang Shi  Female   164.5    52.0\n",
       "Freshman  Changmei Feng  Female   163.8    56.0\n",
       "Freshman   Xiaopeng Han  Female   164.1    53.0\n",
       "Freshman    Yanli Zhang  Female   165.1    52.0"
      ]
     },
     "execution_count": 13,
     "metadata": {},
     "output_type": "execute_result"
    }
   ],
   "source": [
    "#索引排序\n",
    "df.set_index('Grade').sort_index().head()"
   ]
  },
  {
   "cell_type": "markdown",
   "id": "db462bef",
   "metadata": {},
   "source": [
    "区间类别"
   ]
  },
  {
   "cell_type": "code",
   "execution_count": 72,
   "id": "45d4af32",
   "metadata": {},
   "outputs": [
    {
     "data": {
      "text/plain": [
       "0    (1.997, 3.5]\n",
       "1      (3.5, 5.0]\n",
       "dtype: category\n",
       "Categories (2, interval[float64, right]): [(1.997, 3.5] < (3.5, 5.0]]"
      ]
     },
     "execution_count": 72,
     "metadata": {},
     "output_type": "execute_result"
    }
   ],
   "source": [
    "#利用cut函数将数据分成n组\n",
    "#核心参数是bin，bin=n则分成n组\n",
    "#cut函数默认左开右闭，左闭右开设置为(right = False)\n",
    "s = pd.Series([2,5])\n",
    "pd.cut(s,bins = 2)"
   ]
  },
  {
   "cell_type": "code",
   "execution_count": 73,
   "id": "065b0640",
   "metadata": {},
   "outputs": [
    {
     "data": {
      "text/plain": [
       "0      [2.0, 3.0)\n",
       "1    [4.0, 5.003)\n",
       "dtype: category\n",
       "Categories (3, interval[float64, left]): [[2.0, 3.0) < [3.0, 4.0) < [4.0, 5.003)]"
      ]
     },
     "execution_count": 73,
     "metadata": {},
     "output_type": "execute_result"
    }
   ],
   "source": [
    "pd.cut(s,bins=3,right = False)"
   ]
  },
  {
   "cell_type": "code",
   "execution_count": 79,
   "id": "17d39661",
   "metadata": {},
   "outputs": [
    {
     "data": {
      "text/plain": [
       "0    (1.0, 2.5]\n",
       "1    (4.0, 6.0]\n",
       "dtype: category\n",
       "Categories (5, interval[float64, right]): [(-inf, 1.0] < (1.0, 2.5] < (2.5, 4.0] < (4.0, 6.0] < (6.0, inf]]"
      ]
     },
     "execution_count": 79,
     "metadata": {},
     "output_type": "execute_result"
    }
   ],
   "source": [
    "#bins 的另一个常见用法是指定区间分割点的列表（使用np.infty 可以表示无穷大）\n",
    "pd.cut(s,bins=[-np.infty,1,2.5,4,6,np.infty])\n",
    "#实际有5个区间，因为只有两个元素，所有只有两行索引"
   ]
  },
  {
   "cell_type": "code",
   "execution_count": 32,
   "id": "390e5b95",
   "metadata": {},
   "outputs": [],
   "source": [
    "df = pd.DataFrame({'Age': [25, 30, 35, 40, 45, 50, 55, 60, 65]})\n",
    "labels = ['young', 'middle', 'old']\n",
    "result= pd.cut(df['Age'], bins=3, labels=labels,retbins=True)"
   ]
  },
  {
   "cell_type": "code",
   "execution_count": 33,
   "id": "a0f1b7dd",
   "metadata": {},
   "outputs": [
    {
     "data": {
      "text/plain": [
       "0     young\n",
       "1     young\n",
       "2     young\n",
       "3    middle\n",
       "4    middle\n",
       "5    middle\n",
       "6       old\n",
       "7       old\n",
       "8       old\n",
       "Name: Age, dtype: category\n",
       "Categories (3, object): ['young' < 'middle' < 'old']"
      ]
     },
     "execution_count": 33,
     "metadata": {},
     "output_type": "execute_result"
    }
   ],
   "source": [
    "result[0]"
   ]
  },
  {
   "cell_type": "code",
   "execution_count": 34,
   "id": "3038731a",
   "metadata": {},
   "outputs": [
    {
     "data": {
      "text/plain": [
       "array([24.96      , 38.33333333, 51.66666667, 65.        ])"
      ]
     },
     "execution_count": 34,
     "metadata": {},
     "output_type": "execute_result"
    }
   ],
   "source": [
    "result[1]"
   ]
  },
  {
   "cell_type": "code",
   "execution_count": 25,
   "id": "85ca888e",
   "metadata": {},
   "outputs": [],
   "source": [
    "#两个常用参数为labels 和retbins ，分别代表了区间的名字和是否返回分割点（默认不返回）\n",
    "s = pd.Series([2,5])\n",
    "res = pd.cut(s,bins=2,labels=['Small','Big'],retbins=True)"
   ]
  },
  {
   "cell_type": "code",
   "execution_count": 26,
   "id": "287182a9",
   "metadata": {},
   "outputs": [
    {
     "data": {
      "text/plain": [
       "0    Small\n",
       "1      Big\n",
       "dtype: category\n",
       "Categories (2, object): ['Small' < 'Big']"
      ]
     },
     "execution_count": 26,
     "metadata": {},
     "output_type": "execute_result"
    }
   ],
   "source": [
    "res[0]"
   ]
  },
  {
   "cell_type": "code",
   "execution_count": 27,
   "id": "4a5b0725",
   "metadata": {},
   "outputs": [
    {
     "data": {
      "text/plain": [
       "array([1.997, 3.5  , 5.   ])"
      ]
     },
     "execution_count": 27,
     "metadata": {},
     "output_type": "execute_result"
    }
   ],
   "source": [
    "res[1]# 该元素为返回的分割点"
   ]
  },
  {
   "cell_type": "code",
   "execution_count": 1,
   "id": "df9ccaa8-be3a-4748-8d9a-a00ee49a917f",
   "metadata": {},
   "outputs": [],
   "source": [
    "import pandas as pd\n",
    "import numpy as np"
   ]
  },
  {
   "cell_type": "code",
   "execution_count": 17,
   "id": "ce9b292e-134c-4aea-be60-ef28187c4a45",
   "metadata": {},
   "outputs": [
    {
     "data": {
      "text/plain": [
       "array([0, 2, 3])"
      ]
     },
     "execution_count": 17,
     "metadata": {},
     "output_type": "execute_result"
    }
   ],
   "source": [
    "data = np.random.randint(0, 5, size=3, dtype=int)\n",
    "data"
   ]
  },
  {
   "cell_type": "code",
   "execution_count": 18,
   "id": "0ca6264d-2d46-4726-ada8-cfa5009fae4e",
   "metadata": {},
   "outputs": [
    {
     "data": {
      "text/plain": [
       "[(-0.001, 1.0], (1.0, 2.0], (2.5, 3.0]]\n",
       "Categories (4, interval[float64, right]): [(-0.001, 1.0] < (1.0, 2.0] < (2.0, 2.5] < (2.5, 3.0]]"
      ]
     },
     "execution_count": 18,
     "metadata": {},
     "output_type": "execute_result"
    }
   ],
   "source": [
    "pd.qcut(data,q=4)"
   ]
  },
  {
   "cell_type": "code",
   "execution_count": null,
   "id": "8d22516a-0bfa-4911-9847-5bc9326d6874",
   "metadata": {},
   "outputs": [],
   "source": []
  },
  {
   "cell_type": "code",
   "execution_count": null,
   "id": "f3774a6b-1e9d-4e5f-80ff-9a5dfad79835",
   "metadata": {},
   "outputs": [],
   "source": []
  },
  {
   "cell_type": "code",
   "execution_count": 89,
   "id": "a2919319",
   "metadata": {},
   "outputs": [
    {
     "data": {
      "text/plain": [
       "0    (33.999, 46.0]\n",
       "1      (65.0, 89.0]\n",
       "2      (65.0, 89.0]\n",
       "3    (33.999, 46.0]\n",
       "4      (65.0, 89.0]\n",
       "Name: Weight, dtype: category\n",
       "Categories (4, interval[float64, right]): [(33.999, 46.0] < (46.0, 51.0] < (51.0, 65.0] < (65.0, 89.0]]"
      ]
     },
     "execution_count": 89,
     "metadata": {},
     "output_type": "execute_result"
    }
   ],
   "source": [
    "s = df.Weight\n",
    "pd.qcut(s,q=4).head()\n",
    "#筛选数据至某一区间，按照q=4，即4等分位"
   ]
  },
  {
   "cell_type": "code",
   "execution_count": 90,
   "id": "228427a6",
   "metadata": {},
   "outputs": [
    {
     "data": {
      "text/plain": [
       "0      (44.0, 51.0]\n",
       "1      (56.6, 89.0]\n",
       "2      (56.6, 89.0]\n",
       "3    (33.999, 44.0]\n",
       "4      (56.6, 89.0]\n",
       "Name: Weight, dtype: category\n",
       "Categories (4, interval[float64, right]): [(33.999, 44.0] < (44.0, 51.0] < (51.0, 56.6] < (56.6, 89.0]]"
      ]
     },
     "execution_count": 90,
     "metadata": {},
     "output_type": "execute_result"
    }
   ],
   "source": [
    "pd.qcut(s,q=[0,0.2,0.5,0.7,1]).head()\n",
    "#自定义分位数区间"
   ]
  },
  {
   "cell_type": "markdown",
   "id": "88b86905",
   "metadata": {},
   "source": [
    "9.3.2 一般区间的构造"
   ]
  },
  {
   "cell_type": "code",
   "execution_count": 92,
   "id": "413e0028",
   "metadata": {},
   "outputs": [
    {
     "data": {
      "text/plain": [
       "Interval(2, 6, closed='right')"
      ]
     },
     "execution_count": 92,
     "metadata": {},
     "output_type": "execute_result"
    }
   ],
   "source": [
    "my_interval = pd.Interval(2,6,'right')\n",
    "my_interval\n",
    "#right, left, both, neither代表区间的开闭状态（左、右端点和端点）"
   ]
  },
  {
   "cell_type": "code",
   "execution_count": 93,
   "id": "0756429c",
   "metadata": {},
   "outputs": [
    {
     "data": {
      "text/plain": [
       "True"
      ]
     },
     "execution_count": 93,
     "metadata": {},
     "output_type": "execute_result"
    }
   ],
   "source": [
    "#mid, length, right, left, closed ，分别表示中点、长度、右端点、左端点和开闭状态\n",
    "#可以使用in判断是否位于该区间内\n",
    "3 in my_interval"
   ]
  },
  {
   "cell_type": "code",
   "execution_count": 94,
   "id": "be0ff15a",
   "metadata": {},
   "outputs": [
    {
     "data": {
      "text/plain": [
       "True"
      ]
     },
     "execution_count": 94,
     "metadata": {},
     "output_type": "execute_result"
    }
   ],
   "source": [
    "#overlaps,判断是否含有交集\n",
    "my_interval2 = pd.Interval(6,7,'left')\n",
    "my_interval.overlaps(my_interval2)"
   ]
  },
  {
   "cell_type": "code",
   "execution_count": 96,
   "id": "b80fd279",
   "metadata": {},
   "outputs": [
    {
     "data": {
      "text/plain": [
       "IntervalIndex([[4, 6], [6, 9], [9, 15]], dtype='interval[int64, both]')"
      ]
     },
     "execution_count": 96,
     "metadata": {},
     "output_type": "execute_result"
    }
   ],
   "source": [
    "#一般而言，pd.IntervalIndex 对象有四类方法生成，分别是from_breaks, from_arrays, from_tuples, interval_\n",
    "#range ，它们分别应用于不同的情况\n",
    "#from_breaks 的功能类似于cut 或qcut 函数，只不过后两个是通过计算得到的风格点，而前者是直接传入自定义的分割点\n",
    "pd.IntervalIndex.from_breaks([4,6,9,15],closed='both')"
   ]
  },
  {
   "cell_type": "code",
   "execution_count": 100,
   "id": "19f59ef9",
   "metadata": {},
   "outputs": [
    {
     "data": {
      "text/plain": [
       "IntervalIndex([(1, 2), (4, 5), (7, 8), (13, 14)], dtype='interval[int64, neither]')"
      ]
     },
     "execution_count": 100,
     "metadata": {},
     "output_type": "execute_result"
    }
   ],
   "source": [
    "#from_arrays 是分别传入左端点和右端点的列表，适用于有交集并且知道起点和终点的情况\n",
    "pd.IntervalIndex.from_arrays(left=[1,4,7,13],right=[2,5,8,14],closed='neither')"
   ]
  },
  {
   "cell_type": "code",
   "execution_count": 101,
   "id": "d4d493e1",
   "metadata": {},
   "outputs": [
    {
     "data": {
      "text/plain": [
       "IntervalIndex([(1, 4), (2, 5), (4, 11)], dtype='interval[int64, neither]')"
      ]
     },
     "execution_count": 101,
     "metadata": {},
     "output_type": "execute_result"
    }
   ],
   "source": [
    "#from_tuples 传入的是起点和终点元组构成的列表\n",
    "pd.IntervalIndex.from_tuples([(1,4),(2,5),(4,11)],closed='neither')"
   ]
  },
  {
   "cell_type": "code",
   "execution_count": 104,
   "id": "93c1f937",
   "metadata": {},
   "outputs": [
    {
     "data": {
      "text/plain": [
       "IntervalIndex([(1.0, 2.75], (2.75, 4.5], (4.5, 6.25], (6.25, 8.0]], dtype='interval[float64, right]')"
      ]
     },
     "execution_count": 104,
     "metadata": {},
     "output_type": "execute_result"
    }
   ],
   "source": [
    "#一个等差的区间序列由起点、终点、区间个数和区间长度决定,interval_range 中的start, end, periods, freq 参数就对应了这四个量\n",
    "#确认三个量\n",
    "pd.interval_range(start=1,end=8,periods=4)"
   ]
  },
  {
   "cell_type": "code",
   "execution_count": 105,
   "id": "615cf074",
   "metadata": {},
   "outputs": [
    {
     "data": {
      "text/plain": [
       "IntervalIndex([(3, 4], (4, 5], (5, 6]], dtype='interval[int64, right]')"
      ]
     },
     "execution_count": 105,
     "metadata": {},
     "output_type": "execute_result"
    }
   ],
   "source": [
    "pd.interval_range(end=6,periods=3,freq=1)"
   ]
  },
  {
   "cell_type": "code",
   "execution_count": 106,
   "id": "9998ff96",
   "metadata": {},
   "outputs": [
    {
     "data": {
      "text/plain": [
       "IntervalIndex([(2, 6], (6, 7]], dtype='interval[int64, right]')"
      ]
     },
     "execution_count": 106,
     "metadata": {},
     "output_type": "execute_result"
    }
   ],
   "source": [
    "#pd.IntervalIndex([...], closed=...) ，把Interval 类型的列表组成传入其中转为区间索引，那么所有的区间会被强制转为指定的closed 类型\n",
    "pd.IntervalIndex([my_interval,my_interval2],closed='right')"
   ]
  },
  {
   "cell_type": "markdown",
   "id": "4ae0fffa",
   "metadata": {},
   "source": [
    "9.3.3 区间的属性与方法"
   ]
  },
  {
   "cell_type": "code",
   "execution_count": 107,
   "id": "de62c543",
   "metadata": {},
   "outputs": [],
   "source": [
    "#如果想要具体利用cut 或者qcut 的结果进行分析，那么需要先将其转为该种索引类型\n",
    "id_interval = pd.IntervalIndex(pd.cut(s,3))"
   ]
  },
  {
   "cell_type": "code",
   "execution_count": 108,
   "id": "a95061a8",
   "metadata": {},
   "outputs": [
    {
     "data": {
      "text/plain": [
       "IntervalIndex([(33.945, 52.333], (52.333, 70.667], (70.667, 89.0], (33.945, 52.333], (70.667, 89.0]], dtype='interval[float64, right]', name='Weight')"
      ]
     },
     "execution_count": 108,
     "metadata": {},
     "output_type": "execute_result"
    }
   ],
   "source": [
    "id_demo = id_interval[:5]#选出前5个展示\n",
    "id_demo"
   ]
  },
  {
   "cell_type": "code",
   "execution_count": 109,
   "id": "ba9474dd",
   "metadata": {},
   "outputs": [
    {
     "data": {
      "text/plain": [
       "Index([33.945, 52.333, 70.667, 33.945, 70.667], dtype='float64')"
      ]
     },
     "execution_count": 109,
     "metadata": {},
     "output_type": "execute_result"
    }
   ],
   "source": [
    "#IntervalIndex 有若干常用属性：left, right, mid, length ，分别表示左右端点、两端点均值和区间长度。\n",
    "id_demo.left\n",
    "#左端点数值"
   ]
  },
  {
   "cell_type": "code",
   "execution_count": 110,
   "id": "59664313",
   "metadata": {},
   "outputs": [
    {
     "data": {
      "text/plain": [
       "Index([52.333, 70.667, 89.0, 52.333, 89.0], dtype='float64')"
      ]
     },
     "execution_count": 110,
     "metadata": {},
     "output_type": "execute_result"
    }
   ],
   "source": [
    "id_demo.right\n",
    "#右端点数值"
   ]
  },
  {
   "cell_type": "code",
   "execution_count": 111,
   "id": "28ad546c",
   "metadata": {},
   "outputs": [
    {
     "data": {
      "text/plain": [
       "Index([43.138999999999996, 61.5, 79.8335, 43.138999999999996, 79.8335], dtype='float64')"
      ]
     },
     "execution_count": 111,
     "metadata": {},
     "output_type": "execute_result"
    }
   ],
   "source": [
    "id_demo.mid\n",
    "#两端点均值"
   ]
  },
  {
   "cell_type": "code",
   "execution_count": 112,
   "id": "ba2213b4",
   "metadata": {},
   "outputs": [
    {
     "data": {
      "text/plain": [
       "Index([18.387999999999998, 18.334000000000003, 18.333, 18.387999999999998,\n",
       "       18.333],\n",
       "      dtype='float64')"
      ]
     },
     "execution_count": 112,
     "metadata": {},
     "output_type": "execute_result"
    }
   ],
   "source": [
    "id_demo.length\n",
    "#两端点区间长度"
   ]
  },
  {
   "cell_type": "code",
   "execution_count": null,
   "id": "9cab4e65",
   "metadata": {},
   "outputs": [],
   "source": []
  }
 ],
 "metadata": {
  "kernelspec": {
   "display_name": "Python 3 (ipykernel)",
   "language": "python",
   "name": "python3"
  },
  "language_info": {
   "codemirror_mode": {
    "name": "ipython",
    "version": 3
   },
   "file_extension": ".py",
   "mimetype": "text/x-python",
   "name": "python",
   "nbconvert_exporter": "python",
   "pygments_lexer": "ipython3",
   "version": "3.10.12"
  }
 },
 "nbformat": 4,
 "nbformat_minor": 5
}
